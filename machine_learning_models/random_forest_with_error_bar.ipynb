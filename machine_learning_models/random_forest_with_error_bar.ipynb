{
 "cells": [
  {
   "cell_type": "code",
   "execution_count": 119,
   "metadata": {},
   "outputs": [
    {
     "name": "stderr",
     "output_type": "stream",
     "text": [
      "X has feature names, but DecisionTreeRegressor was fitted without feature names\n",
      "X has feature names, but DecisionTreeRegressor was fitted without feature names\n",
      "X has feature names, but DecisionTreeRegressor was fitted without feature names\n",
      "X has feature names, but DecisionTreeRegressor was fitted without feature names\n",
      "X has feature names, but DecisionTreeRegressor was fitted without feature names\n",
      "X has feature names, but DecisionTreeRegressor was fitted without feature names\n",
      "X has feature names, but DecisionTreeRegressor was fitted without feature names\n",
      "X has feature names, but DecisionTreeRegressor was fitted without feature names\n",
      "X has feature names, but DecisionTreeRegressor was fitted without feature names\n",
      "X has feature names, but DecisionTreeRegressor was fitted without feature names\n",
      "X has feature names, but DecisionTreeRegressor was fitted without feature names\n",
      "X has feature names, but DecisionTreeRegressor was fitted without feature names\n",
      "X has feature names, but DecisionTreeRegressor was fitted without feature names\n",
      "X has feature names, but DecisionTreeRegressor was fitted without feature names\n",
      "X has feature names, but DecisionTreeRegressor was fitted without feature names\n",
      "X has feature names, but DecisionTreeRegressor was fitted without feature names\n",
      "X has feature names, but DecisionTreeRegressor was fitted without feature names\n",
      "X has feature names, but DecisionTreeRegressor was fitted without feature names\n",
      "X has feature names, but DecisionTreeRegressor was fitted without feature names\n",
      "X has feature names, but DecisionTreeRegressor was fitted without feature names\n",
      "X has feature names, but DecisionTreeRegressor was fitted without feature names\n",
      "X has feature names, but DecisionTreeRegressor was fitted without feature names\n",
      "X has feature names, but DecisionTreeRegressor was fitted without feature names\n",
      "X has feature names, but DecisionTreeRegressor was fitted without feature names\n",
      "X has feature names, but DecisionTreeRegressor was fitted without feature names\n",
      "X has feature names, but DecisionTreeRegressor was fitted without feature names\n",
      "X has feature names, but DecisionTreeRegressor was fitted without feature names\n",
      "X has feature names, but DecisionTreeRegressor was fitted without feature names\n",
      "X has feature names, but DecisionTreeRegressor was fitted without feature names\n",
      "X has feature names, but DecisionTreeRegressor was fitted without feature names\n",
      "X has feature names, but DecisionTreeRegressor was fitted without feature names\n",
      "X has feature names, but DecisionTreeRegressor was fitted without feature names\n",
      "X has feature names, but DecisionTreeRegressor was fitted without feature names\n",
      "X has feature names, but DecisionTreeRegressor was fitted without feature names\n",
      "X has feature names, but DecisionTreeRegressor was fitted without feature names\n",
      "X has feature names, but DecisionTreeRegressor was fitted without feature names\n",
      "X has feature names, but DecisionTreeRegressor was fitted without feature names\n",
      "X has feature names, but DecisionTreeRegressor was fitted without feature names\n",
      "X has feature names, but DecisionTreeRegressor was fitted without feature names\n",
      "X has feature names, but DecisionTreeRegressor was fitted without feature names\n",
      "X has feature names, but DecisionTreeRegressor was fitted without feature names\n",
      "X has feature names, but DecisionTreeRegressor was fitted without feature names\n",
      "X has feature names, but DecisionTreeRegressor was fitted without feature names\n",
      "X has feature names, but DecisionTreeRegressor was fitted without feature names\n",
      "X has feature names, but DecisionTreeRegressor was fitted without feature names\n",
      "X has feature names, but DecisionTreeRegressor was fitted without feature names\n",
      "X has feature names, but DecisionTreeRegressor was fitted without feature names\n",
      "X has feature names, but DecisionTreeRegressor was fitted without feature names\n",
      "X has feature names, but DecisionTreeRegressor was fitted without feature names\n",
      "X has feature names, but DecisionTreeRegressor was fitted without feature names\n",
      "X has feature names, but DecisionTreeRegressor was fitted without feature names\n",
      "X has feature names, but DecisionTreeRegressor was fitted without feature names\n",
      "X has feature names, but DecisionTreeRegressor was fitted without feature names\n",
      "X has feature names, but DecisionTreeRegressor was fitted without feature names\n",
      "X has feature names, but DecisionTreeRegressor was fitted without feature names\n",
      "X has feature names, but DecisionTreeRegressor was fitted without feature names\n",
      "X has feature names, but DecisionTreeRegressor was fitted without feature names\n",
      "X has feature names, but DecisionTreeRegressor was fitted without feature names\n",
      "X has feature names, but DecisionTreeRegressor was fitted without feature names\n",
      "X has feature names, but DecisionTreeRegressor was fitted without feature names\n",
      "X has feature names, but DecisionTreeRegressor was fitted without feature names\n",
      "X has feature names, but DecisionTreeRegressor was fitted without feature names\n",
      "X has feature names, but DecisionTreeRegressor was fitted without feature names\n",
      "X has feature names, but DecisionTreeRegressor was fitted without feature names\n",
      "X has feature names, but DecisionTreeRegressor was fitted without feature names\n",
      "X has feature names, but DecisionTreeRegressor was fitted without feature names\n",
      "X has feature names, but DecisionTreeRegressor was fitted without feature names\n",
      "X has feature names, but DecisionTreeRegressor was fitted without feature names\n",
      "X has feature names, but DecisionTreeRegressor was fitted without feature names\n",
      "X has feature names, but DecisionTreeRegressor was fitted without feature names\n",
      "X has feature names, but DecisionTreeRegressor was fitted without feature names\n",
      "X has feature names, but DecisionTreeRegressor was fitted without feature names\n",
      "X has feature names, but DecisionTreeRegressor was fitted without feature names\n",
      "X has feature names, but DecisionTreeRegressor was fitted without feature names\n",
      "X has feature names, but DecisionTreeRegressor was fitted without feature names\n",
      "X has feature names, but DecisionTreeRegressor was fitted without feature names\n",
      "X has feature names, but DecisionTreeRegressor was fitted without feature names\n",
      "X has feature names, but DecisionTreeRegressor was fitted without feature names\n",
      "X has feature names, but DecisionTreeRegressor was fitted without feature names\n",
      "X has feature names, but DecisionTreeRegressor was fitted without feature names\n",
      "X has feature names, but DecisionTreeRegressor was fitted without feature names\n",
      "X has feature names, but DecisionTreeRegressor was fitted without feature names\n",
      "X has feature names, but DecisionTreeRegressor was fitted without feature names\n",
      "X has feature names, but DecisionTreeRegressor was fitted without feature names\n",
      "X has feature names, but DecisionTreeRegressor was fitted without feature names\n",
      "X has feature names, but DecisionTreeRegressor was fitted without feature names\n",
      "X has feature names, but DecisionTreeRegressor was fitted without feature names\n",
      "X has feature names, but DecisionTreeRegressor was fitted without feature names\n",
      "X has feature names, but DecisionTreeRegressor was fitted without feature names\n",
      "X has feature names, but DecisionTreeRegressor was fitted without feature names\n",
      "X has feature names, but DecisionTreeRegressor was fitted without feature names\n",
      "X has feature names, but DecisionTreeRegressor was fitted without feature names\n",
      "X has feature names, but DecisionTreeRegressor was fitted without feature names\n",
      "X has feature names, but DecisionTreeRegressor was fitted without feature names\n",
      "X has feature names, but DecisionTreeRegressor was fitted without feature names\n",
      "X has feature names, but DecisionTreeRegressor was fitted without feature names\n",
      "X has feature names, but DecisionTreeRegressor was fitted without feature names\n",
      "X has feature names, but DecisionTreeRegressor was fitted without feature names\n",
      "X has feature names, but DecisionTreeRegressor was fitted without feature names\n",
      "X has feature names, but DecisionTreeRegressor was fitted without feature names\n",
      "X has feature names, but DecisionTreeRegressor was fitted without feature names\n",
      "X has feature names, but DecisionTreeRegressor was fitted without feature names\n",
      "X has feature names, but DecisionTreeRegressor was fitted without feature names\n",
      "X has feature names, but DecisionTreeRegressor was fitted without feature names\n",
      "X has feature names, but DecisionTreeRegressor was fitted without feature names\n",
      "X has feature names, but DecisionTreeRegressor was fitted without feature names\n",
      "X has feature names, but DecisionTreeRegressor was fitted without feature names\n",
      "X has feature names, but DecisionTreeRegressor was fitted without feature names\n",
      "X has feature names, but DecisionTreeRegressor was fitted without feature names\n",
      "X has feature names, but DecisionTreeRegressor was fitted without feature names\n",
      "X has feature names, but DecisionTreeRegressor was fitted without feature names\n",
      "X has feature names, but DecisionTreeRegressor was fitted without feature names\n",
      "X has feature names, but DecisionTreeRegressor was fitted without feature names\n",
      "X has feature names, but DecisionTreeRegressor was fitted without feature names\n",
      "X has feature names, but DecisionTreeRegressor was fitted without feature names\n",
      "X has feature names, but DecisionTreeRegressor was fitted without feature names\n",
      "X has feature names, but DecisionTreeRegressor was fitted without feature names\n",
      "X has feature names, but DecisionTreeRegressor was fitted without feature names\n",
      "X has feature names, but DecisionTreeRegressor was fitted without feature names\n",
      "X has feature names, but DecisionTreeRegressor was fitted without feature names\n",
      "X has feature names, but DecisionTreeRegressor was fitted without feature names\n",
      "X has feature names, but DecisionTreeRegressor was fitted without feature names\n",
      "X has feature names, but DecisionTreeRegressor was fitted without feature names\n",
      "X has feature names, but DecisionTreeRegressor was fitted without feature names\n",
      "X has feature names, but DecisionTreeRegressor was fitted without feature names\n",
      "X has feature names, but DecisionTreeRegressor was fitted without feature names\n",
      "X has feature names, but DecisionTreeRegressor was fitted without feature names\n",
      "X has feature names, but DecisionTreeRegressor was fitted without feature names\n",
      "X has feature names, but DecisionTreeRegressor was fitted without feature names\n",
      "X has feature names, but DecisionTreeRegressor was fitted without feature names\n",
      "X has feature names, but DecisionTreeRegressor was fitted without feature names\n",
      "X has feature names, but DecisionTreeRegressor was fitted without feature names\n",
      "X has feature names, but DecisionTreeRegressor was fitted without feature names\n",
      "X has feature names, but DecisionTreeRegressor was fitted without feature names\n",
      "X has feature names, but DecisionTreeRegressor was fitted without feature names\n",
      "X has feature names, but DecisionTreeRegressor was fitted without feature names\n",
      "X has feature names, but DecisionTreeRegressor was fitted without feature names\n",
      "X has feature names, but DecisionTreeRegressor was fitted without feature names\n",
      "X has feature names, but DecisionTreeRegressor was fitted without feature names\n",
      "X has feature names, but DecisionTreeRegressor was fitted without feature names\n",
      "X has feature names, but DecisionTreeRegressor was fitted without feature names\n",
      "X has feature names, but DecisionTreeRegressor was fitted without feature names\n",
      "X has feature names, but DecisionTreeRegressor was fitted without feature names\n",
      "X has feature names, but DecisionTreeRegressor was fitted without feature names\n",
      "X has feature names, but DecisionTreeRegressor was fitted without feature names\n",
      "X has feature names, but DecisionTreeRegressor was fitted without feature names\n",
      "X has feature names, but DecisionTreeRegressor was fitted without feature names\n",
      "X has feature names, but DecisionTreeRegressor was fitted without feature names\n",
      "X has feature names, but DecisionTreeRegressor was fitted without feature names\n",
      "X has feature names, but DecisionTreeRegressor was fitted without feature names\n",
      "X has feature names, but DecisionTreeRegressor was fitted without feature names\n",
      "X has feature names, but DecisionTreeRegressor was fitted without feature names\n",
      "X has feature names, but DecisionTreeRegressor was fitted without feature names\n",
      "X has feature names, but DecisionTreeRegressor was fitted without feature names\n",
      "X has feature names, but DecisionTreeRegressor was fitted without feature names\n",
      "X has feature names, but DecisionTreeRegressor was fitted without feature names\n",
      "X has feature names, but DecisionTreeRegressor was fitted without feature names\n",
      "X has feature names, but DecisionTreeRegressor was fitted without feature names\n",
      "X has feature names, but DecisionTreeRegressor was fitted without feature names\n",
      "X has feature names, but DecisionTreeRegressor was fitted without feature names\n",
      "X has feature names, but DecisionTreeRegressor was fitted without feature names\n",
      "X has feature names, but DecisionTreeRegressor was fitted without feature names\n",
      "X has feature names, but DecisionTreeRegressor was fitted without feature names\n",
      "X has feature names, but DecisionTreeRegressor was fitted without feature names\n",
      "X has feature names, but DecisionTreeRegressor was fitted without feature names\n",
      "X has feature names, but DecisionTreeRegressor was fitted without feature names\n",
      "X has feature names, but DecisionTreeRegressor was fitted without feature names\n",
      "X has feature names, but DecisionTreeRegressor was fitted without feature names\n",
      "X has feature names, but DecisionTreeRegressor was fitted without feature names\n",
      "X has feature names, but DecisionTreeRegressor was fitted without feature names\n",
      "X has feature names, but DecisionTreeRegressor was fitted without feature names\n",
      "X has feature names, but DecisionTreeRegressor was fitted without feature names\n",
      "X has feature names, but DecisionTreeRegressor was fitted without feature names\n",
      "X has feature names, but DecisionTreeRegressor was fitted without feature names\n",
      "X has feature names, but DecisionTreeRegressor was fitted without feature names\n",
      "X has feature names, but DecisionTreeRegressor was fitted without feature names\n",
      "X has feature names, but DecisionTreeRegressor was fitted without feature names\n",
      "X has feature names, but DecisionTreeRegressor was fitted without feature names\n",
      "X has feature names, but DecisionTreeRegressor was fitted without feature names\n",
      "X has feature names, but DecisionTreeRegressor was fitted without feature names\n",
      "X has feature names, but DecisionTreeRegressor was fitted without feature names\n",
      "X has feature names, but DecisionTreeRegressor was fitted without feature names\n",
      "X has feature names, but DecisionTreeRegressor was fitted without feature names\n",
      "X has feature names, but DecisionTreeRegressor was fitted without feature names\n",
      "X has feature names, but DecisionTreeRegressor was fitted without feature names\n",
      "X has feature names, but DecisionTreeRegressor was fitted without feature names\n",
      "X has feature names, but DecisionTreeRegressor was fitted without feature names\n",
      "X has feature names, but DecisionTreeRegressor was fitted without feature names\n",
      "X has feature names, but DecisionTreeRegressor was fitted without feature names\n",
      "X has feature names, but DecisionTreeRegressor was fitted without feature names\n",
      "X has feature names, but DecisionTreeRegressor was fitted without feature names\n",
      "X has feature names, but DecisionTreeRegressor was fitted without feature names\n",
      "X has feature names, but DecisionTreeRegressor was fitted without feature names\n",
      "X has feature names, but DecisionTreeRegressor was fitted without feature names\n",
      "X has feature names, but DecisionTreeRegressor was fitted without feature names\n",
      "X has feature names, but DecisionTreeRegressor was fitted without feature names\n",
      "X has feature names, but DecisionTreeRegressor was fitted without feature names\n",
      "X has feature names, but DecisionTreeRegressor was fitted without feature names\n",
      "X has feature names, but DecisionTreeRegressor was fitted without feature names\n",
      "X has feature names, but DecisionTreeRegressor was fitted without feature names\n"
     ]
    },
    {
     "data": {
      "image/png": "[encoded data removed]",
      "text/plain": [
       "<Figure size 720x432 with 1 Axes>"
      ]
     },
     "metadata": {
      "needs_background": "light"
     },
     "output_type": "display_data"
    },
    {
     "data": {
      "image/png": "[encoded data removed]",
      "text/plain": [
       "<Figure size 720x432 with 1 Axes>"
      ]
     },
     "metadata": {
      "needs_background": "light"
     },
     "output_type": "display_data"
    }
   ],
   "source": [
    "import numpy as np\n",
    "import pandas as pd\n",
    "import matplotlib.pyplot as plt\n",
    "from sklearn.ensemble import RandomForestRegressor\n",
    "from sklearn.model_selection import train_test_split\n",
    "\n",
    "# Load and preprocess data\n",
    "df = pd.read_csv(\"feature_target.dat\", sep=\" \", )\n",
    "df = df.dropna(axis=1)\n",
    "df_clean = df.drop(columns=['Unnamed: 0', 'formula'])  # Drop non-numeric columns\n",
    "\n",
    "# Define features and target\n",
    "X = df_clean.drop(columns=[\"diff_coeff_mul_thousand\"])\n",
    "y = df_clean[\"diff_coeff_mul_thousand\"]\n",
    "\n",
    "# Split the data into training and testing sets\n",
    "X_train, X_test, y_train, y_test = train_test_split(X, y, train_size=0.85, random_state=62)\n",
    "\n",
    "# Train the RandomForestRegressor\n",
    "rf = RandomForestRegressor( n_estimators=100, random_state=62) #\n",
    "rf.fit(X_train, y_train)\n",
    "\n",
    "# Get predictions from each tree for the training set\n",
    "all_tree_predictions_train = np.array([tree.predict(X_train) for tree in rf.estimators_])\n",
    "\n",
    "# Mean prediction for the training set\n",
    "mean_predictions_train = np.mean(all_tree_predictions_train, axis=0)\n",
    "\n",
    "# Standard deviation (error bars) for the training set\n",
    "std_dev_predictions_train = np.std(all_tree_predictions_train, axis=0)\n",
    "\n",
    "# Get predictions from each tree for the test set\n",
    "all_tree_predictions_test = np.array([tree.predict(X_test) for tree in rf.estimators_])\n",
    "\n",
    "# Mean prediction for the test set\n",
    "mean_predictions_test = np.mean(all_tree_predictions_test, axis=0)\n",
    "\n",
    "# Standard deviation (error bars) for the test set\n",
    "std_dev_predictions_test = np.std(all_tree_predictions_test, axis=0)\n",
    "\n",
    "# Get the indices of the training and test set samples\n",
    "train_indices = X_train.index\n",
    "test_indices = X_test.index\n",
    "\n",
    "# Create new dataframes to store the results\n",
    "results_df_train = df.loc[train_indices].copy()\n",
    "results_df_train['mean_prediction'] = mean_predictions_train\n",
    "results_df_train['std_dev_prediction'] = std_dev_predictions_train\n",
    "\n",
    "results_df_test = df.loc[test_indices].copy()\n",
    "results_df_test['mean_prediction'] = mean_predictions_test\n",
    "results_df_test['std_dev_prediction'] = std_dev_predictions_test\n",
    "\n",
    "# Sort the dataframes by the standard deviation to identify formulas with higher error bars\n",
    "results_df_train_sorted = results_df_train.sort_values(by='std_dev_prediction', ascending=False)\n",
    "results_df_test_sorted = results_df_test.sort_values(by='std_dev_prediction', ascending=False)\n",
    "\n",
    "# Display the top results with highest error bars for both training and test sets\n",
    "top_results_train = results_df_train_sorted.head()\n",
    "top_results_test = results_df_test_sorted.head()\n",
    "\n",
    "# import ace_tools as tools; \n",
    "# tools.display_dataframe_to_user(name=\"Top Formulas with Highest Error Bars in Training Set\", dataframe=top_results_train)\n",
    "# tools.display_dataframe_to_user(name=\"Top Formulas with Highest Error Bars in Test Set\", dataframe=top_results_test)\n",
    "\n",
    "# Plot the results with error bars for the test set for visualization\n",
    "plt.figure(figsize=(10, 6))\n",
    "plt.errorbar(range(len(mean_predictions_test)), mean_predictions_test, yerr=std_dev_predictions_test, fmt='o', ecolor='r', capsize=5)\n",
    "plt.xlabel('Sample index')\n",
    "plt.ylabel('Prediction')\n",
    "plt.title('Random Forest Predictions with Error Bars (Test Set)')\n",
    "plt.show()\n",
    "\n",
    "# Plot the results with error bars for the training set for visualization\n",
    "plt.figure(figsize=(10, 6))\n",
    "plt.errorbar(range(len(mean_predictions_train)), mean_predictions_train, yerr=std_dev_predictions_train, fmt='o', ecolor='b', capsize=5)\n",
    "plt.xlabel('Sample index')\n",
    "plt.ylabel('Prediction')\n",
    "plt.title('Random Forest Predictions with Error Bars (Training Set)')\n",
    "plt.show()\n"
   ]
  },
  {
   "cell_type": "code",
   "execution_count": 110,
   "metadata": {},
   "outputs": [
    {
     "data": {
      "text/html": [
       "<div>\n",
       "<style scoped>\n",
       "    .dataframe tbody tr th:only-of-type {\n",
       "        vertical-align: middle;\n",
       "    }\n",
       "\n",
       "    .dataframe tbody tr th {\n",
       "        vertical-align: top;\n",
       "    }\n",
       "\n",
       "    .dataframe thead th {\n",
       "        text-align: right;\n",
       "    }\n",
       "</style>\n",
       "<table border=\"1\" class=\"dataframe\">\n",
       "  <thead>\n",
       "    <tr style=\"text-align: right;\">\n",
       "      <th></th>\n",
       "      <th>Unnamed: 0</th>\n",
       "      <th>formula</th>\n",
       "      <th>diff_coeff_mul_thousand</th>\n",
       "      <th>temperature</th>\n",
       "      <th>AAV</th>\n",
       "      <th>LBI</th>\n",
       "      <th>SDLI</th>\n",
       "      <th>SBI</th>\n",
       "      <th>ENS</th>\n",
       "      <th>RBI</th>\n",
       "      <th>...</th>\n",
       "      <th>atomic_radius_avg</th>\n",
       "      <th>atomic_radius_avg_exclude_Li</th>\n",
       "      <th>ratio_r_without_Li_with</th>\n",
       "      <th>avg_m_with_Li</th>\n",
       "      <th>avg_m_wiout_Li</th>\n",
       "      <th>avg_X_with_Li</th>\n",
       "      <th>avg_X_wiout_Li</th>\n",
       "      <th>avg_diff_of_X_Li_rest</th>\n",
       "      <th>mean_prediction</th>\n",
       "      <th>std_dev_prediction</th>\n",
       "    </tr>\n",
       "  </thead>\n",
       "  <tbody>\n",
       "    <tr>\n",
       "      <th>763</th>\n",
       "      <td>763</td>\n",
       "      <td>RbLi2</td>\n",
       "      <td>2.927603</td>\n",
       "      <td>2500</td>\n",
       "      <td>46.021753</td>\n",
       "      <td>0.034585</td>\n",
       "      <td>0.065879</td>\n",
       "      <td>0.122791</td>\n",
       "      <td>0.820000</td>\n",
       "      <td>0.281659</td>\n",
       "      <td>...</td>\n",
       "      <td>1.750000</td>\n",
       "      <td>2.350000</td>\n",
       "      <td>1.342857</td>\n",
       "      <td>33.116600</td>\n",
       "      <td>85.467800</td>\n",
       "      <td>0.926667</td>\n",
       "      <td>0.820000</td>\n",
       "      <td>-0.106667</td>\n",
       "      <td>2.608592</td>\n",
       "      <td>0.515051</td>\n",
       "    </tr>\n",
       "    <tr>\n",
       "      <th>29</th>\n",
       "      <td>29</td>\n",
       "      <td>Li(SiSe2)3</td>\n",
       "      <td>2.369778</td>\n",
       "      <td>2500</td>\n",
       "      <td>29.972943</td>\n",
       "      <td>1.307805</td>\n",
       "      <td>0.458924</td>\n",
       "      <td>0.434211</td>\n",
       "      <td>2.333333</td>\n",
       "      <td>3.011909</td>\n",
       "      <td>...</td>\n",
       "      <td>1.165000</td>\n",
       "      <td>1.133333</td>\n",
       "      <td>0.972818</td>\n",
       "      <td>56.495750</td>\n",
       "      <td>62.001833</td>\n",
       "      <td>2.198000</td>\n",
       "      <td>2.333333</td>\n",
       "      <td>0.135333</td>\n",
       "      <td>2.022241</td>\n",
       "      <td>0.496773</td>\n",
       "    </tr>\n",
       "    <tr>\n",
       "      <th>771</th>\n",
       "      <td>771</td>\n",
       "      <td>RbLiS</td>\n",
       "      <td>0.979005</td>\n",
       "      <td>2500</td>\n",
       "      <td>33.855645</td>\n",
       "      <td>0.695625</td>\n",
       "      <td>0.751862</td>\n",
       "      <td>1.161188</td>\n",
       "      <td>1.700000</td>\n",
       "      <td>0.599063</td>\n",
       "      <td>...</td>\n",
       "      <td>1.600000</td>\n",
       "      <td>1.675000</td>\n",
       "      <td>1.046875</td>\n",
       "      <td>41.491267</td>\n",
       "      <td>58.766400</td>\n",
       "      <td>1.460000</td>\n",
       "      <td>1.700000</td>\n",
       "      <td>0.240000</td>\n",
       "      <td>1.169430</td>\n",
       "      <td>0.447979</td>\n",
       "    </tr>\n",
       "    <tr>\n",
       "      <th>366</th>\n",
       "      <td>366</td>\n",
       "      <td>Li4(SiI3)3</td>\n",
       "      <td>2.800682</td>\n",
       "      <td>2500</td>\n",
       "      <td>48.020516</td>\n",
       "      <td>1.335540</td>\n",
       "      <td>0.606002</td>\n",
       "      <td>0.706190</td>\n",
       "      <td>2.470000</td>\n",
       "      <td>1.891189</td>\n",
       "      <td>...</td>\n",
       "      <td>1.356250</td>\n",
       "      <td>1.325000</td>\n",
       "      <td>0.976959</td>\n",
       "      <td>78.385046</td>\n",
       "      <td>102.199727</td>\n",
       "      <td>2.097500</td>\n",
       "      <td>2.470000</td>\n",
       "      <td>0.372500</td>\n",
       "      <td>2.546079</td>\n",
       "      <td>0.419539</td>\n",
       "    </tr>\n",
       "    <tr>\n",
       "      <th>468</th>\n",
       "      <td>468</td>\n",
       "      <td>Li5(SiBr4)3</td>\n",
       "      <td>2.050257</td>\n",
       "      <td>2500</td>\n",
       "      <td>38.988664</td>\n",
       "      <td>1.478171</td>\n",
       "      <td>0.812386</td>\n",
       "      <td>0.874682</td>\n",
       "      <td>2.748000</td>\n",
       "      <td>1.689951</td>\n",
       "      <td>...</td>\n",
       "      <td>1.217500</td>\n",
       "      <td>1.140000</td>\n",
       "      <td>0.936345</td>\n",
       "      <td>53.890475</td>\n",
       "      <td>69.540300</td>\n",
       "      <td>2.306000</td>\n",
       "      <td>2.748000</td>\n",
       "      <td>0.442000</td>\n",
       "      <td>2.022646</td>\n",
       "      <td>0.409570</td>\n",
       "    </tr>\n",
       "    <tr>\n",
       "      <th>...</th>\n",
       "      <td>...</td>\n",
       "      <td>...</td>\n",
       "      <td>...</td>\n",
       "      <td>...</td>\n",
       "      <td>...</td>\n",
       "      <td>...</td>\n",
       "      <td>...</td>\n",
       "      <td>...</td>\n",
       "      <td>...</td>\n",
       "      <td>...</td>\n",
       "      <td>...</td>\n",
       "      <td>...</td>\n",
       "      <td>...</td>\n",
       "      <td>...</td>\n",
       "      <td>...</td>\n",
       "      <td>...</td>\n",
       "      <td>...</td>\n",
       "      <td>...</td>\n",
       "      <td>...</td>\n",
       "      <td>...</td>\n",
       "      <td>...</td>\n",
       "    </tr>\n",
       "    <tr>\n",
       "      <th>528</th>\n",
       "      <td>528</td>\n",
       "      <td>Li6Zr2O7</td>\n",
       "      <td>0.019915</td>\n",
       "      <td>1000</td>\n",
       "      <td>10.644234</td>\n",
       "      <td>1.169717</td>\n",
       "      <td>1.180885</td>\n",
       "      <td>1.162340</td>\n",
       "      <td>2.971111</td>\n",
       "      <td>1.006346</td>\n",
       "      <td>...</td>\n",
       "      <td>1.066667</td>\n",
       "      <td>0.811111</td>\n",
       "      <td>0.760417</td>\n",
       "      <td>22.405987</td>\n",
       "      <td>32.715978</td>\n",
       "      <td>2.174667</td>\n",
       "      <td>2.971111</td>\n",
       "      <td>0.796444</td>\n",
       "      <td>0.023410</td>\n",
       "      <td>0.006689</td>\n",
       "    </tr>\n",
       "    <tr>\n",
       "      <th>199</th>\n",
       "      <td>199</td>\n",
       "      <td>Li2FeNi3O8</td>\n",
       "      <td>0.012271</td>\n",
       "      <td>1000</td>\n",
       "      <td>9.396516</td>\n",
       "      <td>1.625309</td>\n",
       "      <td>0.951038</td>\n",
       "      <td>0.858367</td>\n",
       "      <td>2.923333</td>\n",
       "      <td>1.893490</td>\n",
       "      <td>...</td>\n",
       "      <td>0.939286</td>\n",
       "      <td>0.854167</td>\n",
       "      <td>0.909379</td>\n",
       "      <td>26.700171</td>\n",
       "      <td>29.993367</td>\n",
       "      <td>2.645714</td>\n",
       "      <td>2.923333</td>\n",
       "      <td>0.277619</td>\n",
       "      <td>0.015716</td>\n",
       "      <td>0.006629</td>\n",
       "    </tr>\n",
       "    <tr>\n",
       "      <th>717</th>\n",
       "      <td>717</td>\n",
       "      <td>LiVO3</td>\n",
       "      <td>0.027440</td>\n",
       "      <td>1000</td>\n",
       "      <td>11.459293</td>\n",
       "      <td>1.519729</td>\n",
       "      <td>1.070705</td>\n",
       "      <td>0.939837</td>\n",
       "      <td>2.987500</td>\n",
       "      <td>1.617013</td>\n",
       "      <td>...</td>\n",
       "      <td>0.920000</td>\n",
       "      <td>0.787500</td>\n",
       "      <td>0.855978</td>\n",
       "      <td>21.176140</td>\n",
       "      <td>24.734925</td>\n",
       "      <td>2.586000</td>\n",
       "      <td>2.987500</td>\n",
       "      <td>0.401500</td>\n",
       "      <td>0.026742</td>\n",
       "      <td>0.006168</td>\n",
       "    </tr>\n",
       "    <tr>\n",
       "      <th>195</th>\n",
       "      <td>195</td>\n",
       "      <td>Li2CuSiO4</td>\n",
       "      <td>0.016830</td>\n",
       "      <td>1000</td>\n",
       "      <td>10.600897</td>\n",
       "      <td>1.452209</td>\n",
       "      <td>1.035522</td>\n",
       "      <td>1.009840</td>\n",
       "      <td>2.926667</td>\n",
       "      <td>1.438058</td>\n",
       "      <td>...</td>\n",
       "      <td>0.968750</td>\n",
       "      <td>0.808333</td>\n",
       "      <td>0.834409</td>\n",
       "      <td>21.188887</td>\n",
       "      <td>25.938183</td>\n",
       "      <td>2.440000</td>\n",
       "      <td>2.926667</td>\n",
       "      <td>0.486667</td>\n",
       "      <td>0.019681</td>\n",
       "      <td>0.005381</td>\n",
       "    </tr>\n",
       "    <tr>\n",
       "      <th>624</th>\n",
       "      <td>624</td>\n",
       "      <td>LiCuBO3</td>\n",
       "      <td>0.019505</td>\n",
       "      <td>1000</td>\n",
       "      <td>9.895244</td>\n",
       "      <td>1.592565</td>\n",
       "      <td>0.934961</td>\n",
       "      <td>0.924498</td>\n",
       "      <td>2.852000</td>\n",
       "      <td>1.722627</td>\n",
       "      <td>...</td>\n",
       "      <td>0.908333</td>\n",
       "      <td>0.800000</td>\n",
       "      <td>0.880734</td>\n",
       "      <td>21.549367</td>\n",
       "      <td>24.471040</td>\n",
       "      <td>2.540000</td>\n",
       "      <td>2.852000</td>\n",
       "      <td>0.312000</td>\n",
       "      <td>0.018965</td>\n",
       "      <td>0.003901</td>\n",
       "    </tr>\n",
       "  </tbody>\n",
       "</table>\n",
       "<p>673 rows × 48 columns</p>\n",
       "</div>"
      ],
      "text/plain": [
       "     Unnamed: 0      formula  diff_coeff_mul_thousand  temperature        AAV  \\\n",
       "763         763        RbLi2                 2.927603         2500  46.021753   \n",
       "29           29   Li(SiSe2)3                 2.369778         2500  29.972943   \n",
       "771         771        RbLiS                 0.979005         2500  33.855645   \n",
       "366         366   Li4(SiI3)3                 2.800682         2500  48.020516   \n",
       "468         468  Li5(SiBr4)3                 2.050257         2500  38.988664   \n",
       "..          ...          ...                      ...          ...        ...   \n",
       "528         528     Li6Zr2O7                 0.019915         1000  10.644234   \n",
       "199         199   Li2FeNi3O8                 0.012271         1000   9.396516   \n",
       "717         717        LiVO3                 0.027440         1000  11.459293   \n",
       "195         195    Li2CuSiO4                 0.016830         1000  10.600897   \n",
       "624         624      LiCuBO3                 0.019505         1000   9.895244   \n",
       "\n",
       "          LBI      SDLI       SBI       ENS       RBI  ...  atomic_radius_avg  \\\n",
       "763  0.034585  0.065879  0.122791  0.820000  0.281659  ...           1.750000   \n",
       "29   1.307805  0.458924  0.434211  2.333333  3.011909  ...           1.165000   \n",
       "771  0.695625  0.751862  1.161188  1.700000  0.599063  ...           1.600000   \n",
       "366  1.335540  0.606002  0.706190  2.470000  1.891189  ...           1.356250   \n",
       "468  1.478171  0.812386  0.874682  2.748000  1.689951  ...           1.217500   \n",
       "..        ...       ...       ...       ...       ...  ...                ...   \n",
       "528  1.169717  1.180885  1.162340  2.971111  1.006346  ...           1.066667   \n",
       "199  1.625309  0.951038  0.858367  2.923333  1.893490  ...           0.939286   \n",
       "717  1.519729  1.070705  0.939837  2.987500  1.617013  ...           0.920000   \n",
       "195  1.452209  1.035522  1.009840  2.926667  1.438058  ...           0.968750   \n",
       "624  1.592565  0.934961  0.924498  2.852000  1.722627  ...           0.908333   \n",
       "\n",
       "     atomic_radius_avg_exclude_Li  ratio_r_without_Li_with  avg_m_with_Li  \\\n",
       "763                      2.350000                 1.342857      33.116600   \n",
       "29                       1.133333                 0.972818      56.495750   \n",
       "771                      1.675000                 1.046875      41.491267   \n",
       "366                      1.325000                 0.976959      78.385046   \n",
       "468                      1.140000                 0.936345      53.890475   \n",
       "..                            ...                      ...            ...   \n",
       "528                      0.811111                 0.760417      22.405987   \n",
       "199                      0.854167                 0.909379      26.700171   \n",
       "717                      0.787500                 0.855978      21.176140   \n",
       "195                      0.808333                 0.834409      21.188887   \n",
       "624                      0.800000                 0.880734      21.549367   \n",
       "\n",
       "     avg_m_wiout_Li  avg_X_with_Li  avg_X_wiout_Li  avg_diff_of_X_Li_rest  \\\n",
       "763       85.467800       0.926667        0.820000              -0.106667   \n",
       "29        62.001833       2.198000        2.333333               0.135333   \n",
       "771       58.766400       1.460000        1.700000               0.240000   \n",
       "366      102.199727       2.097500        2.470000               0.372500   \n",
       "468       69.540300       2.306000        2.748000               0.442000   \n",
       "..              ...            ...             ...                    ...   \n",
       "528       32.715978       2.174667        2.971111               0.796444   \n",
       "199       29.993367       2.645714        2.923333               0.277619   \n",
       "717       24.734925       2.586000        2.987500               0.401500   \n",
       "195       25.938183       2.440000        2.926667               0.486667   \n",
       "624       24.471040       2.540000        2.852000               0.312000   \n",
       "\n",
       "     mean_prediction  std_dev_prediction  \n",
       "763         2.608592            0.515051  \n",
       "29          2.022241            0.496773  \n",
       "771         1.169430            0.447979  \n",
       "366         2.546079            0.419539  \n",
       "468         2.022646            0.409570  \n",
       "..               ...                 ...  \n",
       "528         0.023410            0.006689  \n",
       "199         0.015716            0.006629  \n",
       "717         0.026742            0.006168  \n",
       "195         0.019681            0.005381  \n",
       "624         0.018965            0.003901  \n",
       "\n",
       "[673 rows x 48 columns]"
      ]
     },
     "execution_count": 110,
     "metadata": {},
     "output_type": "execute_result"
    }
   ],
   "source": [
    "results_df_train_sorted"
   ]
  },
  {
   "cell_type": "code",
   "execution_count": 78,
   "metadata": {},
   "outputs": [
    {
     "data": {
      "text/plain": [
       "pandas.core.series.Series"
      ]
     },
     "execution_count": 78,
     "metadata": {},
     "output_type": "execute_result"
    }
   ],
   "source": [
    "type(results_df_train_sorted.loc[763])"
   ]
  },
  {
   "cell_type": "code",
   "execution_count": 111,
   "metadata": {},
   "outputs": [
    {
     "data": {
      "application/vnd.plotly.v1+json": {
       "config": {
        "plotlyServerURL": "https://plot.ly"
       },
       "data": [
        {
         "error_y": {
          "array": [
           0.515050647730125,
           0.4967731511323091,
           0.44797944529931716,
           0.419539407785144,
           0.409570238100998,
           0.3970432913825339,
           0.3726261552723659,
           0.3606591789299281,
           0.3524069315133716,
           0.34567823938812275,
           0.3133036695135149,
           0.3103075240854068,
           0.30732720654125323,
           0.2896237076353524,
           0.28710779085997506,
           0.2844924382524428,
           0.28318195557792447,
           0.28269498775301216,
           0.27914003254786257,
           0.27771668472647476,
           0.2761423772205653,
           0.2753730139858862,
           0.2746590481223743,
           0.2705795346255176,
           0.27006722473595907,
           0.2699397666854779,
           0.26739249922332686,
           0.26151700692087176,
           0.2521908923694311,
           0.2514422529176747,
           0.2503324771353053,
           0.25005389413757767,
           0.24864720982893324,
           0.24553519956562014,
           0.2447122833398506,
           0.2433675777013932,
           0.24194540647605164,
           0.23869731680933312,
           0.23430463665592316,
           0.23337177919393431,
           0.2294549766191336,
           0.22916718098666075,
           0.22875111939509693,
           0.22554286519286545,
           0.22383243090173607,
           0.22305245447766986,
           0.22270686603401327,
           0.22153037946104326,
           0.21909663555832284,
           0.21855970944107705,
           0.21815474814447297,
           0.20886958738102923,
           0.20724583293863943,
           0.20601221321494018,
           0.20561364044686972,
           0.20375286331457573,
           0.2012996902877039,
           0.19987578939452008,
           0.19929405446104323,
           0.19822238542510845,
           0.19689068626649758,
           0.1964082575204064,
           0.19471004102540443,
           0.19375491475975043,
           0.19176582410719037,
           0.1911780320636641,
           0.18787700775716587,
           0.18676186992765878,
           0.18676023719278448,
           0.1806282858382867,
           0.18025591555559942,
           0.179101859440497,
           0.17749818912502752,
           0.17635558005080995,
           0.1749953088402808,
           0.1746079001909002,
           0.1740276294259824,
           0.1723863641389024,
           0.17201082593313463,
           0.17163942922732991,
           0.1712795889575437,
           0.17096994373538282,
           0.17095839875319152,
           0.16861904751890935,
           0.16743460244433536,
           0.16726957597849437,
           0.1672363170314439,
           0.16714484301102212,
           0.16662901002777458,
           0.1662077631814126,
           0.16611718839740394,
           0.16587125693114416,
           0.16343782004670848,
           0.1620692008714767,
           0.16115886561504003,
           0.16104358703638813,
           0.16050892050960763,
           0.15988424691990866,
           0.15852411505649625,
           0.15828939399227693,
           0.1580041404061375,
           0.15700430877001448,
           0.15596746958081575,
           0.15538134714634214,
           0.15511862364574347,
           0.15446958722209966,
           0.1540775072972485,
           0.1540023969314961,
           0.15388570181929154,
           0.15272094102298617,
           0.1513237624297335,
           0.15090557053534792,
           0.15053771393504964,
           0.15036379757583318,
           0.15019281266229287,
           0.14816084499853074,
           0.14772999359734068,
           0.14741845206358667,
           0.14728259284796444,
           0.1471080472373363,
           0.14670884898598255,
           0.14667263423361926,
           0.14512775113459378,
           0.14439134286238833,
           0.1439228287288339,
           0.14287971726051032,
           0.14222964557432535,
           0.14189105310113767,
           0.14107189498524983,
           0.14000441662520532,
           0.13884056293185967,
           0.13830706303228948,
           0.13799700336227316,
           0.13790612762019122,
           0.1377528478019668,
           0.13711007107575485,
           0.13590604544623866,
           0.13513006279973178,
           0.1349817417982608,
           0.13424875770665873,
           0.1336804710777194,
           0.13331849740321253,
           0.1333168996349995,
           0.132910994649503,
           0.1326832166834846,
           0.13264657659034368,
           0.13259130167604732,
           0.13190153782393105,
           0.13163714047661515,
           0.13126275209972543,
           0.1308181019333382,
           0.13074847518509103,
           0.1297440596783816,
           0.12957787100407617,
           0.12948164422169106,
           0.12926126339050045,
           0.12893447979477685,
           0.12745303514357526,
           0.12745084927638808,
           0.12734310124796097,
           0.1271843339319454,
           0.12708506545787662,
           0.12665190567823767,
           0.1264501122418966,
           0.12634654314203939,
           0.1261138708241662,
           0.12572155003157756,
           0.12352285182763745,
           0.12337432177728735,
           0.12262115923175519,
           0.12222039288433142,
           0.12219961620938688,
           0.12218673586012191,
           0.12180843967686646,
           0.12142840709169114,
           0.12130425223107828,
           0.12101133432474223,
           0.12092087489745862,
           0.12088950609842881,
           0.12087323713958578,
           0.12061605141731048,
           0.11976116274080288,
           0.11915587720218085,
           0.11884399849545682,
           0.11863419439005508,
           0.11861309869883083,
           0.11852061071805602,
           0.11847633337699791,
           0.1183501126542727,
           0.11744786490748504,
           0.11729326979346837,
           0.11724327734364386,
           0.11721394041532052,
           0.1163408328330077,
           0.11606575050211172,
           0.11555569919519058,
           0.11553459200878104,
           0.11424372659989131,
           0.11404106764383776,
           0.11388338238115092,
           0.11360605712550222,
           0.11350121268305695,
           0.11344009063778061,
           0.11271890472813895,
           0.11196247544168109,
           0.11195873208243315,
           0.1117716947648762,
           0.1116789154724073,
           0.11159221080209013,
           0.11157873814223297,
           0.11140526567840006,
           0.11112508139581491,
           0.11096087148356495,
           0.11080024617192927,
           0.11074013392830229,
           0.11067857536531871,
           0.10951818008227408,
           0.10937683755485031,
           0.10927055418692473,
           0.10847003413214844,
           0.10843178997575986,
           0.1075759544408361,
           0.10649135510158222,
           0.10639211005864568,
           0.10627535630108331,
           0.10608302658480889,
           0.10595116470829069,
           0.10593504971478379,
           0.10552250902611574,
           0.10483831379372002,
           0.1043637697701814,
           0.10428059716821156,
           0.10412324914390284,
           0.10402251391164065,
           0.10272939527719194,
           0.10254970479173539,
           0.10227519829078187,
           0.10224423719268248,
           0.10218582794863387,
           0.10207531922147052,
           0.1011623627697062,
           0.10086887325171942,
           0.10060592739404986,
           0.10056342162283052,
           0.10012017808131116,
           0.10008514061509088,
           0.10001967234044255,
           0.10000990139523598,
           0.09989543489552315,
           0.09958205484362513,
           0.09937325021877565,
           0.0992372987274894,
           0.09912866672367282,
           0.09851241219590967,
           0.09827529834946579,
           0.09812424736262979,
           0.09769341884590885,
           0.09740622206247315,
           0.09709536576971829,
           0.09699282252097144,
           0.09699048966650554,
           0.09619086195645977,
           0.09615368568534151,
           0.09575739900695399,
           0.09554571254170552,
           0.0954778457692272,
           0.09522200105966606,
           0.09515366814068958,
           0.0950914560350675,
           0.09481404062757617,
           0.09398881411076747,
           0.0938599295253773,
           0.09318940141037849,
           0.09285244276605475,
           0.09268089751784352,
           0.09267129230180941,
           0.09236943134752382,
           0.09234677433450315,
           0.09232819053192028,
           0.09207446333254127,
           0.0920653844399141,
           0.09193400836369343,
           0.09187969791915049,
           0.09140985364740906,
           0.09134913581419807,
           0.09126626532809193,
           0.09106333783099596,
           0.09094797136942132,
           0.0907616662688454,
           0.09073099538159106,
           0.09071136440412132,
           0.09014587341878696,
           0.08990825926169738,
           0.08928661199895438,
           0.08916173093303532,
           0.08864567608534177,
           0.08854617345711284,
           0.08854246771033851,
           0.08836444869652202,
           0.08833946296052181,
           0.088273350973561,
           0.08812112929492377,
           0.08798394570157636,
           0.08659412445437492,
           0.0865237229102381,
           0.08646165516929227,
           0.08639764282717777,
           0.08594075402337911,
           0.0859077947729178,
           0.08579476493779722,
           0.0857873941451404,
           0.08576256272879398,
           0.08568943954889058,
           0.08567041191989509,
           0.08533824944218409,
           0.08459109158586149,
           0.083820951022746,
           0.08346229069038864,
           0.08335928733428413,
           0.08318656655823733,
           0.08297445333861049,
           0.08297209071785022,
           0.08246506752094696,
           0.08223235838453134,
           0.08213755033220274,
           0.08185814964170524,
           0.08115657803701351,
           0.08110351407349957,
           0.0810447425863141,
           0.08093483210891672,
           0.08081310146217797,
           0.08066229115252872,
           0.0805315019528313,
           0.08017188354589215,
           0.08002866769411883,
           0.0799673001313705,
           0.07965234306317735,
           0.0795409100161101,
           0.07945859445337611,
           0.07940691111557234,
           0.07914678030598807,
           0.07908469690298495,
           0.07904094239809693,
           0.07807290708998185,
           0.07801641925427498,
           0.07795639198754374,
           0.07791500581754944,
           0.07778679728264556,
           0.07749598080488351,
           0.07742306293158725,
           0.0772264659444,
           0.07711483032959748,
           0.07673182646591521,
           0.07600767258414413,
           0.07585118291293803,
           0.07579645211016986,
           0.0757739873947133,
           0.07500877754540129,
           0.07472984484237011,
           0.07468687120383166,
           0.07413572508583945,
           0.07366419857165661,
           0.07350600939457982,
           0.07336862333419851,
           0.07330315693299326,
           0.07315364499508414,
           0.07296387585602619,
           0.07295457384973499,
           0.07279035377704783,
           0.07274192809475082,
           0.07260608916393924,
           0.0725619323157301,
           0.07253579926841154,
           0.07241170181300736,
           0.07229911079792656,
           0.07217193237401001,
           0.07202529700698385,
           0.07134343764952644,
           0.07118326288463929,
           0.07097658258192027,
           0.07077492717853195,
           0.07065724022576811,
           0.07041696064239304,
           0.07004233139002579,
           0.06993175569487546,
           0.06992829109447103,
           0.06991630497561645,
           0.0697298691402446,
           0.06947852631770633,
           0.06899932559540914,
           0.06876951391675143,
           0.06845262415241173,
           0.0682562671066172,
           0.0682273080538217,
           0.06793601237361138,
           0.06787907275158717,
           0.06782371679264813,
           0.06754718521818918,
           0.06736559298248986,
           0.06708209525798389,
           0.06706927319199633,
           0.06677845009020963,
           0.06669157533349757,
           0.06643200533980746,
           0.06636993263197405,
           0.06595608805848821,
           0.06548536126228728,
           0.06543645007316003,
           0.06524114051902734,
           0.06514821886322754,
           0.06501676348303208,
           0.06495213653536949,
           0.06461750150614103,
           0.06447155053556575,
           0.06390228284857592,
           0.06377095042802877,
           0.06357764803380775,
           0.06352592872603129,
           0.06338786457221139,
           0.06314677308840072,
           0.0629866996158372,
           0.06296571110497,
           0.06292736934576318,
           0.06259407409003509,
           0.062345574351223516,
           0.062291397650770755,
           0.06215514428861773,
           0.061691776453105446,
           0.06166065371765207,
           0.06113934365321965,
           0.060977258487475004,
           0.06081584249849919,
           0.060804738150290465,
           0.060672464642514023,
           0.06045208706751982,
           0.06036653707010778,
           0.06035162203317587,
           0.06025465284912426,
           0.059917734863345916,
           0.059888007226716555,
           0.05987842481079373,
           0.059823812454698186,
           0.05967344131377996,
           0.05951977115919781,
           0.05928841031090087,
           0.059090024607462904,
           0.05893246416657371,
           0.05863099310510295,
           0.05858968757573872,
           0.05857448266566378,
           0.05846740786782066,
           0.058251950459548306,
           0.05790906070971563,
           0.0579007200007065,
           0.057747476056274706,
           0.05758689838916557,
           0.057553400452775176,
           0.057473017455807074,
           0.05728574742792377,
           0.057285606734746926,
           0.05722104221101894,
           0.057076013988550174,
           0.056877918153272984,
           0.05683711433599846,
           0.05667521668895504,
           0.05662558546986072,
           0.05651121116137995,
           0.0564970677235969,
           0.056374221141419996,
           0.05622823370424834,
           0.05622432028165909,
           0.056205682841609525,
           0.05620549508452747,
           0.05614172380723542,
           0.05564994257750208,
           0.055481176398921826,
           0.055154145751389126,
           0.055144089786915686,
           0.055095952515582164,
           0.05491440507176163,
           0.054823767802693206,
           0.054309696697177716,
           0.0542380997899154,
           0.05406741654398859,
           0.05404448962948451,
           0.05379675663470863,
           0.05375779709690513,
           0.0537040612870786,
           0.05298257190846103,
           0.05295786408343997,
           0.05256324428947004,
           0.052513263893720075,
           0.05242414655760627,
           0.05203761898896122,
           0.051906972577929,
           0.051847468279199636,
           0.05150223440748663,
           0.051352160872419395,
           0.051184681140222135,
           0.051149372733874855,
           0.05029406502905325,
           0.04969434208614278,
           0.04958795532714171,
           0.04929296318714342,
           0.049226394493004186,
           0.04907109534770419,
           0.048881082092094706,
           0.0485961569450515,
           0.048549142615533156,
           0.04849611669058524,
           0.048468191418113836,
           0.048393210967484834,
           0.04838127419116251,
           0.04836383184360492,
           0.04826425236528719,
           0.048087459657892545,
           0.048012872313779924,
           0.04772389958311969,
           0.047701075268547374,
           0.04747128543844006,
           0.04745732193866667,
           0.047195980562479,
           0.04718058347007358,
           0.04701830791120432,
           0.046864617598360234,
           0.04685848373428741,
           0.046842323139196264,
           0.04659306076919925,
           0.046244012358833964,
           0.04614676472529514,
           0.04592852664671357,
           0.045753216190595955,
           0.04562709986236252,
           0.04559732027626403,
           0.04556945429835052,
           0.045562375263103444,
           0.04553304295519706,
           0.045431869443505975,
           0.045251070962765046,
           0.045141503046536365,
           0.045021334460393074,
           0.045004610220248945,
           0.044672074175080595,
           0.04463860143859404,
           0.04462603796022828,
           0.04429322028750554,
           0.04422834421722176,
           0.04415598579186431,
           0.044066813831837776,
           0.04391916227293616,
           0.043845496860494965,
           0.043767600148116,
           0.043603289163302125,
           0.04308568884044416,
           0.042909906520936146,
           0.04288539052906494,
           0.04269699221121199,
           0.04237312232511391,
           0.04235143206660784,
           0.042158024563221715,
           0.04202088506389338,
           0.04193436048125212,
           0.04190505976504032,
           0.04172212223703637,
           0.04154975076188634,
           0.04126562404296596,
           0.041161834885687226,
           0.0403841440069107,
           0.040226454864068714,
           0.040085842252364105,
           0.04007042878850814,
           0.039975412217017524,
           0.039903611723126974,
           0.039671435794777304,
           0.03960629265481313,
           0.03957853696042595,
           0.03954472677037497,
           0.03940721682631466,
           0.03905962536506174,
           0.039004438995960046,
           0.038727892012133024,
           0.038677833115824595,
           0.03858005901964741,
           0.03831331702413435,
           0.03776496807863354,
           0.037686522653409285,
           0.0376725211093627,
           0.0375280046097142,
           0.0374037476268919,
           0.0373564039021654,
           0.037239626609360275,
           0.0371096107887767,
           0.03684174714499032,
           0.036517913342459914,
           0.03647173398143623,
           0.035688633327411345,
           0.03557173616844381,
           0.035468171818214954,
           0.035412644058900385,
           0.035352030116891225,
           0.03484645022316159,
           0.03482259788166586,
           0.034812100101598936,
           0.034661139388912236,
           0.03457493423573102,
           0.03454007037097053,
           0.034456787069208406,
           0.03424888717090927,
           0.03419243279504584,
           0.034181041041323176,
           0.034179758681085755,
           0.03244890413535932,
           0.03244391996773134,
           0.031933062928813094,
           0.03153587459472485,
           0.03141068272710637,
           0.031009634497363457,
           0.030587030909505996,
           0.030582486999743815,
           0.02997922226564999,
           0.029840214353173466,
           0.029239988948467074,
           0.0292263207530024,
           0.029119453739744196,
           0.029049753501050893,
           0.028941555061067062,
           0.028590530519413182,
           0.028304608757520968,
           0.02816877990714676,
           0.02804782722133497,
           0.027910619052782963,
           0.027758283541584772,
           0.02742917997407249,
           0.027248800149668618,
           0.02716568940536064,
           0.026902128495238112,
           0.02644285721329403,
           0.02629859356423267,
           0.025909194851046598,
           0.02587436796495513,
           0.024381758415622522,
           0.02409574557075285,
           0.023500295766364546,
           0.023211357124061832,
           0.022206949407681285,
           0.020148270234252755,
           0.019676989956672004,
           0.019467547435242167,
           0.018989347856421274,
           0.01768215378113945,
           0.016570056192003222,
           0.015942450412719217,
           0.012379448742121714,
           0.012273362397648781,
           0.012171620864901277,
           0.012163420136669578,
           0.011613180028711518,
           0.01107322026439013,
           0.011031691017944625,
           0.010200766665515826,
           0.009210982830784127,
           0.009042476908473415,
           0.008590409628072223,
           0.007542213981186155,
           0.007538506723616816,
           0.007491639201732218,
           0.007039403338570394,
           0.006979070736976091,
           0.006689135995849613,
           0.006629006271054129,
           0.006168028814480278,
           0.005381012738992538,
           0.0039008182222549184
          ],
          "type": "data",
          "visible": true
         },
         "hoverinfo": "text+x+y",
         "marker": {
          "color": "blue"
         },
         "mode": "markers",
         "text": [
          "RbLi2",
          "Li(SiSe2)3",
          "RbLiS",
          "Li4(SiI3)3",
          "Li5(SiBr4)3",
          "LiSnI2",
          "Na2Li9",
          "Na2Li9",
          "Li4(SiI3)3",
          "Ba3LiSi6",
          "LiY2",
          "RbLi2Sn",
          "Li(SiSe2)3",
          "Rb3Li2Si3",
          "Li3Sc",
          "Li2Mo3S4",
          "LiY2",
          "Li(Si2W)3",
          "Li2Mn",
          "LiSiS2",
          "LiSnI2",
          "LiZnSn",
          "LiSiS2",
          "Li15(SiCl4)2",
          "Li3Ca2Si",
          "LiSi",
          "Li9Si19Te8",
          "Na2Li9",
          "RbLi2",
          "Li3N",
          "Li10Zr3(Si8Sn)3",
          "Li2Mn",
          "Li12SnB2",
          "Li10Zr3(Si8Sn)3",
          "LiTlSi",
          "Li3S",
          "Ba3LiSi6",
          "LiY2",
          "Sr2Li12Sn",
          "Li16WO3",
          "LiV(CO3)2",
          "Li5(SiBr4)3",
          "Li8(Ti5Sn3)3",
          "Li9(VSn2)2",
          "Li3Sc",
          "KLi8Si",
          "K2LiAlP2",
          "Li9(VSn2)2",
          "LiMg2Sn",
          "KLi8Si",
          "RbLiS",
          "Li6SiB3",
          "LiV2",
          "Li2O",
          "Li6SiB3",
          "Li5Tl2",
          "Li4Ta3Si",
          "Li21(Si3N4)2",
          "Li2O",
          "Li3Ca2Si",
          "Li12Co2Si",
          "Li4TiS4",
          "Li4W",
          "Li4W",
          "Li4AlSi",
          "Li3P",
          "Li21(Si4Rh3)2",
          "Li3VSi2",
          "LiV2",
          "Na9Li13Sn4",
          "Li3N",
          "Li16Fe3Si",
          "Li15(SiCl4)2",
          "Li4Ta",
          "Li3CuS2",
          "Li9NbSi2",
          "RbLi2",
          "LiV(CO3)2",
          "LiZn",
          "Li4W",
          "Li4Zr",
          "Li2Pd",
          "SrLi10Si8Sn",
          "Rb3Li2Si3",
          "Li9SnS2",
          "Li4Ru",
          "K2LiAlP2",
          "Li4Zr",
          "Li12Ca2Sn",
          "LiMg2Sn",
          "Li9(Si2Mo)2",
          "Li4Ta3Sn",
          "SrLi39CaSi9Sn2",
          "LiSnI2",
          "Li4Os",
          "Li2Ca2Si5O13",
          "Li20Si2NiSn2",
          "Li40Si9Bi",
          "Na3Li2Si3",
          "Li2Pd",
          "Li9(Si2Mo)2",
          "LiNb",
          "Na2LiAlP2",
          "Li5(SiBr4)3",
          "Li15(Sn4Pt)2",
          "SrLi10Si8Sn",
          "Li3Sc",
          "Li19Si63",
          "Li4Ta3Si",
          "LiIO3",
          "Li4(ScSi)3",
          "Sr2Li12Sn",
          "Li21(Si3N4)2",
          "Li(Si2W)3",
          "Li4Ta3Sn",
          "Li15Ti(SiSn)2",
          "Li27Sn5",
          "Li12SnB2",
          "Li4Ta",
          "Li12SiNi2",
          "RbLiS",
          "LiAlO2",
          "Rb3Li2Si3",
          "Li4(SiI3)3",
          "Li3HfSi2",
          "Li11Mn4Si7",
          "Li9(SiP2)2",
          "SrLi39CaSi9Sn2",
          "RbLi2Sn",
          "Li9Cd2Sn",
          "Li19Si63",
          "Li9SnMo2",
          "Li16Fe3Si",
          "Li14Mg9Si5",
          "Li16WO3",
          "Li39Fe2Si9Sn2",
          "Li4(TiSi)3",
          "Li3P",
          "SrLi8Si",
          "Li3VSi2",
          "Li2SiHg",
          "Li8SnTe",
          "Li13Si5O8",
          "Li5Tl2",
          "Li19Cu15Si4",
          "Li3CuS2",
          "Li2Mo3S4",
          "Li5SbS4",
          "Li10Si9Ge",
          "Li2Si2Os",
          "Li(SiSe2)3",
          "LiSiNO",
          "LiSi",
          "Li9(VSn2)2",
          "LiY2",
          "Sr2Li12Sn",
          "LiTiSiO4",
          "Li9Si19Te8",
          "LiSb(PO3)4",
          "Li19Cu15Si4",
          "Li3NbS4",
          "LiRh",
          "LiTiO2",
          "Li3CuSn",
          "LiAlSiO4",
          "Li32Hf5Sn3",
          "Li16SiPd3",
          "Li4Sb",
          "Li3S",
          "Li(TiSe2)3",
          "Li15Sn2F8",
          "Li4(TiSi)3",
          "Li16WO3",
          "Li3BiS3",
          "Li13Si5O8",
          "Li4TiS4",
          "Li4InSn",
          "Li15Ti(SiSn)2",
          "SrLi4",
          "Li11Mn4Si7",
          "Li20InSi9",
          "Li3N",
          "LiNb(PO3)4",
          "Li8SnSb",
          "SrLi8Si",
          "LiTi2",
          "Li3Se",
          "Li9NbSi2",
          "Li4Pt",
          "LiNb",
          "Li9(SiAs2)2",
          "Li2SiHg",
          "Li2Co3(SeO3)4",
          "Li5(SiBr4)3",
          "Cs4Li108Sn23",
          "Li2V3CuO8",
          "Na2LiAlP2",
          "Li40Si9Bi",
          "Li3NbS4",
          "Li4Ni",
          "LiBiB2O5",
          "LiP3(WO6)2",
          "Li6SiB3",
          "LiNb",
          "LiTi2(PO4)3",
          "Li15Sn2F8",
          "LiSiAg",
          "Li8(Ti5Sn3)3",
          "Li4Ta3Si",
          "Li4AlSi",
          "Li(SiSe2)3",
          "Li5(ZnSi4)2",
          "Li8(Ti5Sn3)3",
          "KLi8Si",
          "Li21(Si4Rh3)2",
          "Li3Bi2(PO4)3",
          "Li4Mo",
          "Li8SnTe",
          "Li3Se",
          "LiCuBO3",
          "Li3Ca2Si",
          "LiAgO2",
          "Li(Si2W)3",
          "Li5(GaSi4)2",
          "Li10Zr3(Si8Sn)3",
          "Li4(SiTc)3",
          "Li16SiPd3",
          "Li3Se",
          "Li12Ca2Sn",
          "Li6Ga2Sn",
          "Li8YSi",
          "Na2LiAlP2",
          "Li12SiNi2",
          "LiPF6",
          "Li2CdGeO4",
          "Li32Hf5Sn3",
          "LiSiS2",
          "Li44Re4Si7",
          "Li4Ni",
          "Li3S",
          "Li4Mo",
          "Li4Ru",
          "Li3Sc",
          "Cs4Li108Sn23",
          "Li9Fe2Sn",
          "Li12Ag3Sn",
          "Li12Ca2Sn",
          "Li2Co3(SeO3)4",
          "Li28Ni3Sn4",
          "Li28Ni3Sn4",
          "Li5TlO4",
          "Li16WO3",
          "LiSb(PO3)4",
          "LiNbN2",
          "Li4Cr3NiO8",
          "Li4Ni",
          "Li9SnS2",
          "Li9Fe2Sn",
          "LiVP2O7",
          "LiTi2(PO4)3",
          "Li9Fe2Sn",
          "Li2TiV3O8",
          "Cs4Li108Sn23",
          "Li2SiPb",
          "Li12SnSe2",
          "Li4Pt",
          "Li15(SiCl4)2",
          "Li20Si2NiSn2",
          "Li39Fe2Si9Sn2",
          "Li10Si9Ge",
          "Li2Pd",
          "Li14Mg9Si5",
          "Li4Ta3Sn",
          "SrLi39CaSi9Sn2",
          "Li5Si4Au",
          "Li5SiF4",
          "Li9Cr2Sn",
          "Li5(GaSi4)2",
          "Li9(SiAs2)2",
          "LiV2",
          "LiVP2O7",
          "Na3Li2Si3",
          "Li2Ti3ZnO8",
          "Li8SnSb",
          "LiSb(TeO4)3",
          "Li4Zr",
          "Li20Si2NiSn2",
          "LiAsO3",
          "Li5SiF4",
          "LiAlO2",
          "Li3VPCO7",
          "Li32Sc5Sn3",
          "SrLi10Si8Sn",
          "LiAgO2",
          "LiCrSi2",
          "Li9SnMo2",
          "Li39Fe2Si9Sn2",
          "Li15CdSi4",
          "Li2V(Si2O5)3",
          "LiSiNO",
          "Li4Os",
          "Li5GaO4",
          "Li3HfSi2",
          "Li9(VSn2)2",
          "Li9SnMo2",
          "Li15MnSn4",
          "Li9Sn2Rh",
          "KLi8Si",
          "Li4InSn",
          "Li4W",
          "Li2Ti3MnO8",
          "Li16SiPd3",
          "Li6Ga2Sn",
          "Li32Sc5Sn3",
          "LiSiAg",
          "Li32Hf5Sn3",
          "Li12SiPt2",
          "Li2SnO2",
          "Li44Re4Si7",
          "Li2SiPb",
          "Li3VPCO7",
          "Li9(SiP2)2",
          "Li(TiSe2)3",
          "Li2Mo3S4",
          "Li15(Sn4Pt)2",
          "LiNb(PO3)4",
          "LiNiO2",
          "Li12Ag3Sn",
          "LiAlSiO4",
          "LiIO3",
          "Li20Si2NiSn2",
          "Li15(Sn4Pt)2",
          "LiCrSi2",
          "Li44Re4Si7",
          "Li4Ru",
          "Li4P2O7",
          "LiSb(TeO4)3",
          "Li4Pt",
          "RbLiS",
          "Li40Sn7Ru3",
          "LiNbN2",
          "Li27Sn5",
          "Li5Ca3(SiSn)6",
          "Li2Mg2Si4O11",
          "Li12CoSn3",
          "Li4TiS4",
          "Li12SiPt2",
          "Li10Zn4O9",
          "KLi6TaO6",
          "Li12SnSe2",
          "LiVO3",
          "SrLi8Si",
          "LiAsO3",
          "Li2Mn",
          "Li6Hf2O7",
          "Li16Fe3Si",
          "KLi6TaO6",
          "LiSb(TeO4)3",
          "NaLi2AsO4",
          "Li9Cr2Sn",
          "Li2GeO3",
          "Li2V2F7",
          "Li3HfSi2",
          "Li2V2F7",
          "Li9(SiP2)2",
          "LiMo(PO4)2",
          "Li21(Si4Rh3)2",
          "Li5SiF4",
          "Li3CuO3",
          "Li2Si2Os",
          "Li9Si19Te8",
          "Li9SnS2",
          "LiPF6",
          "Li2PdO3",
          "Li3CuSn",
          "Li12Ca2Sn",
          "LiBiB2O5",
          "Li2Si2Os",
          "Li8YSi",
          "Li28Ni3Sn4",
          "Li12Sn2Bi",
          "Li14(Sn4P3)3",
          "Li4Os",
          "Li4V2Si(PO6)2",
          "Li2Ca2Si5O13",
          "Li2Co3NiO8",
          "Li5(ZnSi4)2",
          "Li2Ca2Si5O13",
          "Li14(Sn4As3)3",
          "Li32Sc5Sn3",
          "Li9(SiAs2)2",
          "LiSiS2",
          "Li4Ni",
          "Li4Ta3Sn",
          "Li40Si9Bi",
          "Li2CuSiO4",
          "NaLi2AsO4",
          "Li4Zr",
          "LiTi2",
          "Li9(Si2Mo)2",
          "Li2VPO4F",
          "Li5ReO6",
          "Li5TlO4",
          "Li5SbS4",
          "Li7BiO6",
          "Li6Hf2O7",
          "Li21(Si3N4)2",
          "Li15MnSn4",
          "Li4(SiTc)3",
          "Li2FeNi3O8",
          "Li4Mo",
          "Li6SiB3",
          "Li4Ta",
          "Li15MnSn4",
          "Li15Si2Sn3",
          "LiCrO2",
          "Li4VCr3O8",
          "Li6Zr2O7",
          "LiVO3",
          "Li5TlO4",
          "Li4Pt",
          "Li5ReO6",
          "Li12CoSn3",
          "Li10Si9Ge",
          "Li21(Si4Rh3)2",
          "Li6Ga2Sn",
          "Li5Si3Ru2",
          "LiNb",
          "Li2V2F7",
          "LiV2",
          "LiCuBO3",
          "Li12Ag3Sn",
          "Li3V3(BO5)2",
          "LiTiO2",
          "Li2O",
          "Li5Cu(PO4)2",
          "Li4V2Si(PO6)2",
          "Li12Sn2Bi",
          "Li8SnSb",
          "LiRh",
          "Li2Ti3ZnO8",
          "LiTiSiO4",
          "Li4AlSn",
          "Li8(Ti5Sn3)3",
          "Li4P2O7",
          "Li4Ta3Si",
          "LiV(CO3)2",
          "Li9Cd2Sn",
          "Li13Si5O8",
          "Li6Zr2O7",
          "Li5SiF4",
          "Li2Ti3MnO8",
          "Li6Zr2O7",
          "Li15Sn2F8",
          "LiV(OF)2",
          "Li4(TiSi)3",
          "Li2PdO3",
          "Li19Cu15Si4",
          "Li2Ti3MnO8",
          "LiNb(PO3)4",
          "Li5Tl2",
          "Li9NbSi2",
          "Li5(GaSi4)2",
          "Li2Mg2Si4O11",
          "Li15Sn4Pd",
          "LiSb(PO3)4",
          "Li2V3CuO8",
          "Li4AlSi",
          "Li3Se",
          "LiVO3",
          "LiP3(WO6)2",
          "Li5ReO6",
          "Li4P2O7",
          "Li7BiO6",
          "Li4Sb",
          "Li8SnTe",
          "LiZn",
          "Li12Co2Si",
          "Li2Ti3ZnO8",
          "Li3NbO4",
          "LiRh",
          "K2LiAlP2",
          "Li2TiV3O8",
          "Li2Mn3O6",
          "Li2Mn3O6",
          "Li4Sb",
          "Li14Mg9Si5",
          "Li39Fe2Si9Sn2",
          "Li3NbO4",
          "Sr2Li12Sn",
          "Li5Mg3(SiSn)6",
          "Li14(Sn4As3)3",
          "Li9Sn2Rh",
          "Li3Bi2(PO4)3",
          "LiCrSi2",
          "Na2LiAlP2",
          "Ba3LiSi6",
          "KLi6TaO6",
          "Li3VSi2",
          "LiSiNO",
          "LiV(OF)2",
          "Li10Zn4O9",
          "Li2Co3(SeO3)4",
          "Li14(Sn4As3)3",
          "LiAlO2",
          "Li2V(Si2O5)3",
          "LiMg2Sn",
          "Li9SnMo2",
          "Li2CuSiO4",
          "Li7BiO6",
          "Li21(Si3N4)2",
          "Cs4Li108Sn23",
          "Li15Si2Sn3",
          "Li4Cr3NiO8",
          "Li4AlSn",
          "Li12Sn2Bi",
          "LiZnSn",
          "Li2SnO2",
          "Li15Si2Sn3",
          "Li4AlSn",
          "Li4V2Si(PO6)2",
          "Li2Co3NiO8",
          "Li9Cr2Sn",
          "Li2GeO3",
          "Li9Si19Te8",
          "Li10Zn4O9",
          "Li2GeO3",
          "RbLi2Sn",
          "Li2VPO4F",
          "Li5Si4Au",
          "Li3SbO4",
          "Li2MoO3",
          "Li2Ti3ZnO8",
          "Li5Cu(PO4)2",
          "Li3SbO4",
          "Li32Hf5Sn3",
          "Li2SiPb",
          "Li2SnO2",
          "LiAlSiO4",
          "Li4Cr3NiO8",
          "Li2Mg2Si4O11",
          "Li2CuSiO4",
          "Li14(Sn4As3)3",
          "Li9Sn2Rh",
          "Li4VCr3O8",
          "Li27Sn5",
          "SrLi39CaSi9Sn2",
          "Li44Re4Si7",
          "Li2MoO3",
          "Li15Ti(SiSn)2",
          "Li3SbO4",
          "Li40Sn7Ru3",
          "LiCrO2",
          "LiTlSi",
          "LiV(OF)2",
          "Li15(SiCl4)2",
          "Li14(Sn4P3)3",
          "Li14(Sn4P3)3",
          "Li2PdO3",
          "LiZnSn",
          "Li8SnTe",
          "Li2Co3NiO8",
          "Li14Mg9Si5",
          "Li20InSi9",
          "Li12Sn2Bi",
          "Li5Cu(PO4)2",
          "Li3VSi2",
          "Li3VPCO7",
          "Li2SiHg",
          "Li4Os",
          "LiPF6",
          "Li15(Sn4Pt)2",
          "Li3S",
          "Li15Sn4Pd",
          "Li3CuO3",
          "LiVP2O7",
          "Li19Si63",
          "LiCuBO3",
          "Li2FeNi3O8",
          "Li3CuS2",
          "Li12CoSn3",
          "Li2AlVO4",
          "Li13Si5O8",
          "Li9Sn2Rh",
          "LiTlSi",
          "Li2FeNi3O8",
          "Li2V3CuO8",
          "Li9(Si2Mo)2",
          "LiMg2Sn",
          "Li15CdSi4",
          "Li2SnO2",
          "Li9(SiP2)2",
          "Li11Mn4Si7",
          "Li9Cd2Sn",
          "Li8YSi",
          "Li4TiS4",
          "Li14(Sn4P3)3",
          "Li15MnSn4",
          "Li2TiV3O8",
          "Li15Sn4Pd",
          "Li5Mg3(SiSn)6",
          "Li3Bi2(PO4)3",
          "Li3NbS4",
          "Li4(ScSi)3",
          "LiP3(WO6)2",
          "Li12SiPt2",
          "Li16SiPd3",
          "LiTlSi",
          "LiAsO3",
          "LiZnSn",
          "Li4Ru",
          "Li9SnS2",
          "LiV(CO3)2",
          "Li32Sc5Sn3",
          "Li8SnSb",
          "Li15Si2Sn3",
          "Li15Sn4Pd",
          "SrLi8Si",
          "Li4AlSi",
          "Li3V3(BO5)2",
          "Li6Ga2Sn",
          "Li5Ca3(SiSn)6",
          "Li4AlSn",
          "Li10Si9Ge",
          "Li5TlO4",
          "Li19Cu15Si4",
          "Li2ZnSiO4",
          "Li3CuSn",
          "Li2SiHg",
          "LiSiAg",
          "LiIO3",
          "LiCrO2",
          "Li5GaO4",
          "Li2CdGeO4",
          "Li5(GaSi4)2",
          "Li5Si3Ru2",
          "Na3Li2Si3",
          "Li12SnSe2",
          "Li5Mg3(SiSn)6",
          "Li3HfSi2",
          "NaLi2AsO4",
          "Li2SiPb",
          "LiSi",
          "Li2Mn3O6",
          "Li7BiO6",
          "KLi6TaO6",
          "Li4VCr3O8",
          "Li10Zn4O9",
          "Li5Cu(PO4)2",
          "Li3BiS3",
          "Li4V2Si(PO6)2",
          "Li2VPO4F",
          "LiMo(PO4)2",
          "Li3CuO3",
          "Li2CdGeO4",
          "Li3SbO4",
          "Li5ReO6",
          "Li4P2O7",
          "LiAgO2",
          "Li2GeO3",
          "NaLi2AsO4",
          "LiAsO3",
          "LiSiNO",
          "LiTiSiO4",
          "LiAlO2",
          "LiV(OF)2",
          "Li3V3(BO5)2",
          "LiBiB2O5",
          "Li6Zr2O7",
          "Li2FeNi3O8",
          "LiVO3",
          "Li2CuSiO4",
          "LiCuBO3"
         ],
         "type": "scatter",
         "x": [
          2.9276028,
          2.369778,
          0.9790049,
          2.8006815,
          2.0502573,
          2.3600774,
          2.768183,
          2.0663787,
          1.8471762,
          0.8480482,
          0.5597840000000001,
          1.7492699,
          1.5973344,
          1.4539254,
          1.901249,
          0.9878378,
          0.9770592,
          0.4773505,
          1.4442094,
          1.062419,
          1.6449593,
          1.2964963,
          1.5466732,
          1.8095026,
          1.5787326,
          0.3024617,
          1.5285073,
          1.3260543,
          1.2839870000000002,
          1.3387713,
          0.649687,
          1.0448251000000002,
          2.1694574,
          1.0358035,
          1.3808156,
          1.5811647000000002,
          0.5454761,
          0.3834128,
          2.0911457,
          1.9563165,
          0.9208706,
          1.5802425,
          0.5664539000000001,
          1.1555903,
          1.3996867,
          1.5851671,
          1.2313811,
          0.8102548,
          1.3683265,
          2.243962,
          0.5408667,
          1.3843530000000002,
          0.5272730000000001,
          0.8009552000000001,
          0.9244205,
          1.6321664000000002,
          0.8918003,
          1.1099677,
          0.4857103,
          0.9981951,
          1.2535013000000002,
          1.1782156,
          1.4264146,
          1.9169427,
          0.9042087,
          1.2393751,
          1.0637414,
          0.5904439,
          0.488572,
          1.2479049,
          0.8534545000000001,
          1.5621804,
          1.1964932,
          1.987401,
          1.1110877,
          1.0140190999999998,
          0.7084453000000001,
          0.5056005,
          0.7457049,
          0.8291528,
          1.4888419,
          1.1598162,
          0.8456538,
          1.0193734,
          1.5690517000000002,
          1.5783877000000002,
          0.6432055999999999,
          2.0013080000000003,
          2.0361681000000003,
          0.8164761,
          0.7850803000000001,
          0.7032428000000001,
          1.5494567,
          0.9906204000000002,
          1.4479833,
          0.0853667999999999,
          1.951083,
          1.6629967,
          0.8960606000000001,
          0.7821799,
          1.3054349,
          1.167013,
          1.1135067,
          0.9134706,
          0.7794270000000001,
          1.2323972,
          0.8703868,
          0.8295693000000001,
          0.3044846,
          0.9383483,
          0.8846409,
          1.4824491000000002,
          0.7548629,
          0.2243666,
          1.0568684,
          1.4885429,
          1.2349328000000002,
          0.8799598,
          1.5209717,
          1.3479565000000002,
          0.2951234,
          0.4351329,
          0.4786799,
          0.9350528,
          0.9082517,
          0.8597968,
          0.7755936000000001,
          0.4906359,
          0.6487424,
          1.0824231000000002,
          1.2317574999999998,
          1.6852241,
          1.9410911,
          1.3798524,
          1.2907892,
          1.6715963,
          0.7942259,
          0.1804529,
          1.9699937,
          0.9327274,
          0.9205407,
          1.8481032,
          0.550338,
          1.0030479,
          0.5812315,
          0.6815948000000001,
          0.7869497,
          0.4788191,
          0.8968365,
          0.6737814000000001,
          0.566443,
          0.4836312,
          1.2835186,
          0.363226,
          0.1427996,
          0.8698897,
          0.3110029,
          0.8081313,
          0.4599499,
          0.8973064000000001,
          0.5404467000000001,
          0.6537073,
          0.5614958,
          1.1241182,
          0.3595639,
          1.7990721,
          1.7632274,
          1.5929405,
          1.0357336,
          0.3742532,
          0.7107796000000001,
          0.5425287000000001,
          0.7119875,
          0.4446499,
          0.9076563,
          0.7810092,
          0.9792387,
          0.9835776,
          0.5006474000000001,
          0.5110645,
          0.9176101,
          0.4514615,
          0.1499385,
          1.5880937000000002,
          1.3295976,
          0.4408715,
          0.6449872,
          1.635854,
          1.4505130000000002,
          0.8371089,
          0.8142059,
          1.2208048,
          0.7143394000000001,
          0.3555920999999999,
          0.6586262,
          0.7097532,
          0.6793697,
          0.5289781,
          0.8478032,
          1.8000471,
          0.4255082,
          0.5085825,
          0.4551082,
          0.4361431,
          0.341853,
          0.4154684,
          1.0384527,
          0.4534332,
          0.7031368,
          1.4034548,
          0.1314238,
          0.7780719,
          0.1791208,
          0.9142694,
          0.7010433,
          0.5792684,
          1.8581253,
          1.1467348,
          1.068769,
          0.7091339,
          0.5386541,
          0.8765735,
          0.091347,
          0.8492539,
          0.3649125,
          0.7758287,
          1.2771961,
          1.6261298000000002,
          1.4465463,
          1.5370877,
          1.7492757,
          0.2760746,
          0.8546508,
          0.7062681000000001,
          0.5712625000000001,
          1.2374313,
          0.5920906,
          1.1398551,
          0.7408729000000001,
          0.5368298,
          1.4547309000000002,
          1.0952662,
          0.3905659,
          1.7785917,
          1.2286744,
          1.1050383,
          0.9408245,
          0.4468902,
          1.2931109,
          0.7457879000000001,
          0.4524551,
          0.2668751,
          0.2821798,
          0.6347317,
          0.5438116000000001,
          1.2705508,
          0.9099944,
          0.6511887000000001,
          0.5639834,
          0.4181623,
          1.6582626,
          0.4420684,
          1.1637833000000002,
          1.4291144000000002,
          1.1361146000000002,
          0.5314592,
          0.6668876,
          0.759526,
          0.5697665000000001,
          1.4396650000000002,
          0.4309365,
          0.8620686,
          0.327442,
          0.9973067,
          1.2076122,
          0.8621765,
          1.6366954,
          1.2604742,
          0.3905617,
          0.3019673,
          0.2658316,
          0.5008348,
          0.5133141,
          0.9388588,
          0.609109,
          0.9349439,
          0.2998947,
          0.7715291,
          0.5452596,
          0.2435184,
          0.7786200999999999,
          0.8331565,
          0.4106528,
          0.5147056000000001,
          0.5985004,
          1.1135646,
          1.110187,
          0.4850004,
          0.3382717,
          0.1888371,
          1.0267817,
          0.4437764,
          0.6187634000000001,
          0.0297841,
          0.6214846,
          1.4765796,
          1.4544287,
          0.377309,
          1.5222529,
          0.3463827,
          0.3436916,
          0.7343533,
          1.0530707,
          1.3648394,
          0.6388046000000001,
          0.7515779,
          1.0947518,
          0.6869487000000001,
          1.7879904,
          0.9262934,
          0.4616102,
          0.3564367,
          0.6631803,
          0.2883143,
          0.3385449,
          0.4497,
          0.2752421,
          0.6514654,
          0.1477614,
          0.477269,
          1.2279913,
          1.1482289,
          0.408286,
          0.6338126,
          0.6323080999999999,
          0.7752135,
          0.049669,
          0.9650972,
          0.0373118,
          1.1221233000000002,
          0.3200331,
          1.7941795,
          0.7285281,
          0.3754907,
          1.4756066,
          0.4687933,
          0.6003792,
          0.411857,
          0.3867384,
          0.6572778,
          0.5549412,
          0.3502236,
          0.3741136,
          0.2627918999999999,
          0.3376808,
          0.8572037,
          0.6661412000000001,
          0.3713969,
          0.7437976000000001,
          0.6405291000000001,
          0.6148272,
          0.5943475,
          0.2828922,
          0.330254,
          1.2760024,
          0.3032902,
          0.3020816,
          0.2790001,
          0.7207454,
          0.1251633,
          0.5227525,
          0.5991848000000001,
          0.3966894,
          0.0258915,
          0.7906788,
          0.3942172,
          0.197849,
          0.4059483,
          0.7485338,
          0.3334954,
          1.6779507,
          0.9460741,
          0.5479687000000001,
          0.6253276000000001,
          0.0131925,
          0.5432136000000001,
          0.4723771,
          0.3940228,
          1.2434029000000002,
          1.7993407,
          1.3014269,
          0.1561855,
          0.3410888,
          0.1107465,
          0.1724172,
          0.2978707,
          0.4122439,
          0.4067172,
          0.0167078,
          0.3830423,
          0.7651927000000001,
          0.0816891,
          0.7609863,
          0.1672699,
          0.7627030000000001,
          0.5198910000000001,
          0.3222682,
          0.9335065,
          0.3743587,
          0.6182304000000001,
          0.3659719,
          0.1681476,
          0.4198382,
          0.4531941,
          1.4543893,
          0.3717245,
          0.6135709,
          0.5854705,
          0.3977211,
          0.2037321,
          0.1745862,
          0.6546597000000001,
          0.4984039,
          0.4644612,
          0.0678834,
          0.5402871,
          0.2114126,
          0.1824696,
          0.0954008,
          0.0870481999999999,
          0.3458675,
          0.2593909,
          0.3267784,
          0.2247641,
          0.2461267,
          0.4413683,
          0.3559342,
          1.0714891,
          0.5055485000000001,
          0.1707446,
          0.0941969,
          0.322703,
          1.4793285,
          0.0266314,
          0.4651515,
          0.0930725,
          0.090031,
          0.5812433,
          0.2825412,
          0.319448,
          0.0377674,
          0.0707828,
          0.1069838,
          0.102117,
          0.6623664,
          0.0385561,
          0.7278521,
          0.2687395,
          0.2363613,
          0.0825248,
          0.1680808,
          0.1895598,
          0.4397929,
          0.1504825,
          1.5566536,
          0.1087817,
          0.1245778,
          0.4851271,
          0.2634309,
          0.2170134,
          0.1835404,
          0.4733243,
          0.2080217,
          0.4612672,
          0.5283260000000001,
          0.6119271,
          0.3590287,
          0.3139805,
          0.3484526,
          0.4352494,
          0.0192029,
          0.0608551,
          0.0457262,
          0.5607665000000001,
          0.3278043,
          0.1000408,
          0.4606277,
          0.1745602,
          0.6848981,
          0.4268813,
          0.8778057000000001,
          0.1525241,
          0.9794029,
          0.1088819,
          0.1477872,
          0.0738607,
          0.0612389,
          0.1603755,
          0.2880783,
          0.0956024,
          0.1990882,
          0.7312777,
          0.0380286,
          0.5261986000000001,
          0.0827018,
          0.1460006,
          0.4470362,
          0.2196002,
          0.16394,
          0.228688,
          0.0959361,
          0.2061714,
          0.4701135,
          0.6844934,
          0.9625564,
          0.5291597,
          0.8616627,
          0.4172996,
          0.9411423,
          0.4629453,
          0.2108581,
          0.0167967,
          0.2258408,
          0.3901314,
          0.1502536,
          0.1963364,
          0.1162487,
          0.1426153,
          0.4814917,
          0.4027983,
          0.3627323,
          0.1715958,
          0.0053442,
          0.6924635,
          0.6947716,
          0.2794048,
          0.5421956,
          0.2184124,
          0.0469643,
          0.1672161,
          0.0345097,
          0.5951301999999999,
          0.8659291,
          0.5355431,
          0.0370798,
          0.2579152,
          0.1684753,
          0.2064231,
          0.6680177,
          0.1505996,
          0.165565,
          0.5701321,
          0.6588664000000001,
          0.454798,
          0.4351447,
          0.2037079,
          1.2943981,
          0.4513312,
          0.4548754,
          0.5137809,
          0.2200132,
          0.2662262999999999,
          0.1404032,
          0.4881631,
          0.1420832,
          0.2249952,
          0.0524598,
          0.1763192,
          0.450497,
          0.1907954,
          0.178896,
          0.0536607,
          0.190813,
          0.9689871,
          0.1923425,
          0.1182172,
          0.1580864,
          0.119503,
          0.3141791,
          0.1174763,
          0.1485235,
          0.1097344,
          0.0631518,
          0.1687739,
          0.9046246,
          0.0627120999999999,
          0.3147319,
          0.0906481,
          0.1092089,
          0.1512301,
          0.0359189,
          0.0841032,
          0.2611744,
          0.165421,
          0.3153036,
          0.1174652,
          0.1387401,
          0.1001226,
          0.2341013,
          0.4801593,
          0.4571769,
          0.0139139,
          0.1967749,
          0.0531104,
          0.0260165,
          0.2037377,
          0.2662413999999999,
          0.2046868,
          0.2080539,
          0.1808937,
          0.2550403,
          0.18026,
          0.0233195,
          0.3111946,
          0.1497814,
          0.1024662,
          0.1138069,
          0.8643155,
          0.1195913,
          0.1241822,
          0.1670282,
          0.0936828,
          0.1494715999999999,
          0.1382969,
          0.0565123,
          0.0758024,
          0.1623571,
          0.0663368,
          0.1039881,
          0.0799135,
          0.1647307,
          0.0693513,
          0.0240639,
          0.1331380999999999,
          0.1192745,
          0.0378264,
          0.1205211,
          0.230964,
          0.151938,
          0.0337285,
          0.1744198,
          0.1341237,
          0.0878553,
          0.0622567,
          0.0495826,
          0.0253014,
          0.030423,
          0.0318623,
          0.0655492,
          0.1620605,
          0.022707,
          0.0314989,
          0.0292101,
          0.0206472,
          0.0197319,
          0.0238633,
          0.0389329,
          0.0407544,
          0.0491214,
          0.0520944,
          0.0411154,
          0.0422287,
          0.0288782,
          0.0193909,
          0.0165456,
          0.0372017,
          0.0152538,
          0.018335,
          0.0199151,
          0.0122709,
          0.0274399,
          0.0168296,
          0.0195051
         ],
         "y": [
          2.6085923749999966,
          2.0222406709999983,
          1.1694300530000012,
          2.5460790859999984,
          2.0226461759999985,
          2.3345038709999972,
          2.5371156819999974,
          1.8008890500000008,
          1.7719392050000025,
          0.9509609489999988,
          0.7026257430000001,
          1.6906823580000014,
          1.4634128179999986,
          1.3956710700000008,
          1.7914229680000022,
          1.0813315769999994,
          0.9797870409999997,
          0.601360394,
          1.2544854120000013,
          1.1092221120000012,
          1.6422517250000006,
          1.3423443060000004,
          1.5898524809999992,
          1.678409970000001,
          1.6418552869999983,
          0.5062669870000002,
          1.4382204880000007,
          1.1346190519999992,
          1.1637654639999995,
          1.1530072170000008,
          0.7593280070000001,
          0.9552966199999989,
          1.9792298529999999,
          1.143721153,
          1.4037263590000018,
          1.5586490829999988,
          0.6295461370000005,
          0.4665523380000002,
          2.0947981559999986,
          1.8179222600000025,
          0.7690249200000003,
          1.5710506569999987,
          0.7091897329999998,
          1.2587293380000002,
          1.3346232460000005,
          1.5089305320000022,
          1.2670136779999976,
          0.863420842,
          1.336556817999999,
          2.1057133150000014,
          0.6550073210000007,
          1.2655706770000013,
          0.6122102950000005,
          0.8507565620000003,
          0.8820044199999988,
          1.6730006309999996,
          0.9654048789999996,
          1.0213956309999996,
          0.5855204030000003,
          1.0917928400000003,
          1.2462884279999993,
          1.274659103000001,
          1.3360709300000004,
          1.8202992260000008,
          0.8951854299999993,
          1.3320078730000007,
          0.9879847889999993,
          0.6163047229999994,
          0.5040922029999997,
          1.1811843189999989,
          0.8439365939999992,
          1.4584328430000002,
          1.1004967590000017,
          1.9167281830000023,
          1.1830986069999994,
          1.0857816079999991,
          0.6107495950000004,
          0.4569690199999999,
          0.782097084000001,
          0.7207458410000008,
          1.4345676160000003,
          1.1457881829999985,
          0.8735230449999992,
          0.9910760580000012,
          1.616759544999999,
          1.5669973049999981,
          0.7306007200000008,
          1.9385460759999982,
          1.9821619409999993,
          0.8212634690000009,
          0.7672238679999999,
          0.7258440569999999,
          1.6233686289999998,
          0.9087077929999988,
          1.5337658220000012,
          0.2067576489999997,
          1.8835952630000008,
          1.704239499,
          0.8344411459999993,
          0.7968224520000003,
          1.2406242589999987,
          1.1065541589999985,
          1.126760654,
          0.8468544349999988,
          0.8267550719999991,
          1.2723785349999985,
          0.8115029460000003,
          0.7569620010000009,
          0.36077671799999983,
          0.8443081760000005,
          0.9421705669999986,
          1.4765842849999984,
          0.7675108120000003,
          0.30905729899999984,
          1.041111439999999,
          1.5645843239999992,
          1.2309651129999988,
          0.7832287720000001,
          1.465356735,
          1.3062522139999988,
          0.3742160830000005,
          0.5192547559999996,
          0.48813626100000057,
          0.8801649939999993,
          0.9694840569999986,
          0.8666220999999996,
          0.8534099409999995,
          0.5649982150000005,
          0.5413658920000007,
          1.091730055,
          1.2017019990000004,
          1.6519036739999993,
          1.8928092669999979,
          1.350965610000001,
          1.2320499400000018,
          1.655426887000001,
          0.8126846010000003,
          0.26286839699999975,
          1.9034853380000012,
          0.8896290680000004,
          0.9186950320000004,
          1.7937867999999988,
          0.5677128129999993,
          1.0394964139999991,
          0.5423036300000004,
          0.7590717919999996,
          0.7685101199999995,
          0.5355410490000007,
          0.8570179130000005,
          0.7033975140000007,
          0.6072926119999998,
          0.5526935379999997,
          1.2857213419999982,
          0.4005002109999997,
          0.20741436,
          0.895993164000001,
          0.38359391599999937,
          0.8268218429999997,
          0.5161469059999996,
          0.828511791,
          0.49087117299999955,
          0.7116127619999998,
          0.5928106280000007,
          1.184000756999999,
          0.4100940860000001,
          1.7993904709999993,
          1.7522090450000019,
          1.6315399749999988,
          1.0033601880000003,
          0.29495675499999957,
          0.6895180260000003,
          0.5791566239999993,
          0.6689885599999998,
          0.4840980770000008,
          0.8515140819999998,
          0.8278585660000001,
          0.9833052129999996,
          1.0184325570000003,
          0.48341482399999947,
          0.5524153130000006,
          0.9188927750000007,
          0.38983310500000035,
          0.22101710400000005,
          1.6383366810000004,
          1.380566902,
          0.49116559800000004,
          0.6205910600000009,
          1.6564360769999982,
          1.4844005430000002,
          0.7979141659999999,
          0.8711131730000004,
          1.2913336959999997,
          0.6470614919999998,
          0.3079641429999996,
          0.6515347150000005,
          0.6344460110000006,
          0.7303793650000001,
          0.5886283130000011,
          0.8271131040000007,
          1.772800043,
          0.4813446850000006,
          0.4304388490000002,
          0.3719704480000005,
          0.4267779750000001,
          0.2579953420000003,
          0.3335401120000005,
          1.0676311579999986,
          0.5111500469999996,
          0.7116185300000007,
          1.4563291400000002,
          0.17693073500000003,
          0.7980846050000003,
          0.25523071399999986,
          0.8871225779999993,
          0.7249850079999998,
          0.6213699869999991,
          1.8282261340000021,
          1.128251826000001,
          1.0537942290000017,
          0.6334778119999995,
          0.5496610700000005,
          0.8025245070000006,
          0.1522359650000002,
          0.8298994679999996,
          0.39584914000000004,
          0.7253424050000002,
          1.228102030999999,
          1.5919918969999998,
          1.4192364179999981,
          1.4990433300000003,
          1.7979203069999996,
          0.34559437600000037,
          0.8030507750000008,
          0.6900786350000009,
          0.6427457940000008,
          1.2761793439999984,
          0.5775914619999996,
          1.1720131460000005,
          0.681701602,
          0.563993374,
          1.4143956329999994,
          1.092684458999999,
          0.36872333399999946,
          1.760176673000001,
          1.182483488000001,
          1.0853694260000004,
          0.9192095750000004,
          0.4016608669999994,
          1.2454083510000011,
          0.7017072270000005,
          0.48714830000000064,
          0.255289006,
          0.31642463300000045,
          0.6412301280000008,
          0.4799473509999998,
          1.2362334839999989,
          0.9720056270000011,
          0.6267133279999996,
          0.5331157039999995,
          0.4702184949999997,
          1.6433320740000001,
          0.46549732999999954,
          1.1765334580000009,
          1.3820037680000015,
          1.1296184759999996,
          0.5101638630000003,
          0.6247176120000012,
          0.7245532750000002,
          0.5875814680000002,
          1.3905414290000013,
          0.3876634170000004,
          0.8655330140000004,
          0.3426224420000002,
          1.0243222449999991,
          1.2178333589999994,
          0.8090223139999999,
          1.6598620219999993,
          1.2477587580000007,
          0.4301633679999997,
          0.23983949700000015,
          0.30245612299999947,
          0.456697829,
          0.49710706900000007,
          0.9986877130000008,
          0.5699321019999991,
          0.8851259819999993,
          0.28348273599999974,
          0.7253108030000002,
          0.5319354180000004,
          0.28922356399999977,
          0.7311748899999997,
          0.8163290610000007,
          0.44351019600000036,
          0.4620078669999995,
          0.5960365959999998,
          1.0921253840000005,
          1.1028873629999993,
          0.5081064839999994,
          0.3710237469999999,
          0.23053758600000027,
          1.054624605,
          0.4662816349999998,
          0.6659607189999996,
          0.07806777699999994,
          0.6142609650000006,
          1.5099256999999988,
          1.4627747889999982,
          0.351744684,
          1.5270567620000008,
          0.3106600249999998,
          0.3896936249999998,
          0.6896556690000009,
          1.016694273000001,
          1.347283329999998,
          0.6901943580000001,
          0.7763413020000007,
          1.1007835229999992,
          0.7141038310000005,
          1.7725901690000014,
          0.9069115210000004,
          0.4272976570000004,
          0.40137217300000033,
          0.6138426080000003,
          0.31108435999999984,
          0.392031763,
          0.48698431399999975,
          0.312463644,
          0.6326692159999996,
          0.1923552780000001,
          0.4660526739999999,
          1.2203605549999998,
          1.1818903780000014,
          0.4103834559999996,
          0.6395077459999997,
          0.6217697990000007,
          0.7427217990000003,
          0.09380670099999996,
          0.997965778000001,
          0.07381655400000013,
          1.086334819999999,
          0.3578270160000001,
          1.762969302000001,
          0.7684838949999998,
          0.3949954310000002,
          1.481668517000001,
          0.4868522680000006,
          0.6158320729999998,
          0.4194564199999998,
          0.41341878499999946,
          0.654892626000001,
          0.5973614390000008,
          0.3589024979999998,
          0.4060115920000004,
          0.2486853289999999,
          0.3759271040000003,
          0.8273739549999999,
          0.6862006679999992,
          0.37243154800000033,
          0.7242317300000003,
          0.6414518160000006,
          0.6416810940000002,
          0.6294432789999997,
          0.3302645209999995,
          0.3627600469999998,
          1.2828409419999987,
          0.3089355859999998,
          0.28796206000000013,
          0.25133335800000006,
          0.7100044389999997,
          0.15814633000000008,
          0.49847260100000057,
          0.5981219400000011,
          0.37229914999999975,
          0.07658214800000007,
          0.7946259559999995,
          0.39044078500000007,
          0.23568434200000027,
          0.40439105599999947,
          0.7946865209999998,
          0.28543386200000004,
          1.6691308099999989,
          0.89867339,
          0.5701520809999995,
          0.6328254799999994,
          0.050570883999999997,
          0.5628854350000008,
          0.44274868600000034,
          0.41398667600000005,
          1.2631982410000022,
          1.7980818049999985,
          1.3077334789999986,
          0.17330971899999983,
          0.2965886850000003,
          0.11505544599999995,
          0.1911265850000001,
          0.3139536290000003,
          0.410533408,
          0.4074132159999999,
          0.05059145399999996,
          0.37104125899999985,
          0.7364441580000001,
          0.11488419100000014,
          0.7625100109999999,
          0.19702438600000025,
          0.743369568000001,
          0.5578415930000005,
          0.314601105,
          0.9633177619999992,
          0.4011512149999998,
          0.5945631800000009,
          0.3412797630000003,
          0.15751667499999975,
          0.39038520800000015,
          0.4858812719999995,
          1.4755670800000016,
          0.3647517479999996,
          0.6096166309999995,
          0.610592486,
          0.3717273829999994,
          0.21716092299999995,
          0.18798976400000003,
          0.6677712310000006,
          0.4948375989999996,
          0.46506262000000026,
          0.09423608100000001,
          0.5288485880000002,
          0.22153404699999968,
          0.16057428099999982,
          0.1196858400000001,
          0.08950619699999991,
          0.32432666900000046,
          0.2216830209999998,
          0.31022936099999965,
          0.2551729220000003,
          0.2587669020000003,
          0.41722449900000014,
          0.34591522599999996,
          1.0536733349999987,
          0.543047691000001,
          0.18850149300000013,
          0.11171245500000007,
          0.31218824800000033,
          1.4967740840000006,
          0.05776428500000003,
          0.4398446689999998,
          0.11991803199999991,
          0.10930774799999998,
          0.5874457759999995,
          0.26354365500000027,
          0.35187978400000025,
          0.05589910999999995,
          0.08475823499999999,
          0.1365408370000001,
          0.0973297759999999,
          0.6614286590000009,
          0.05749985500000004,
          0.6938566990000006,
          0.24290074999999978,
          0.2644502149999999,
          0.10930421499999994,
          0.16865826700000006,
          0.20296477700000004,
          0.4299751410000004,
          0.16192519400000013,
          1.5220920330000012,
          0.1253439009999999,
          0.11747088500000018,
          0.494222553,
          0.22091437399999994,
          0.1793173270000002,
          0.16915813899999996,
          0.4525072200000006,
          0.18586723399999994,
          0.4614027300000003,
          0.5435370460000001,
          0.6038150540000007,
          0.36740497500000013,
          0.2902591909999998,
          0.33636345400000045,
          0.4211281220000004,
          0.046772390999999934,
          0.07902304200000013,
          0.06371140899999994,
          0.582979811,
          0.333613371,
          0.13318845600000018,
          0.46016537600000057,
          0.18392054699999982,
          0.6718818659999996,
          0.4057931990000001,
          0.8591286009999997,
          0.15815669500000018,
          0.9953455959999985,
          0.12543685200000007,
          0.15239608199999993,
          0.09141018300000002,
          0.06791707000000008,
          0.16888555800000027,
          0.2752891329999997,
          0.11334972900000008,
          0.17766164200000006,
          0.7144659610000003,
          0.03940004000000001,
          0.5024763150000003,
          0.09901202500000002,
          0.1407917350000001,
          0.44889224999999977,
          0.20731830499999987,
          0.1444892320000001,
          0.2163945289999998,
          0.10058742599999995,
          0.21478614799999984,
          0.4832884069999992,
          0.6682830030000004,
          0.9664538629999987,
          0.5418849340000006,
          0.8609068869999992,
          0.4242826469999999,
          0.9638883589999991,
          0.4767908070000005,
          0.18898205699999987,
          0.044686548000000006,
          0.2340965390000001,
          0.40076027200000053,
          0.15990586299999973,
          0.19067593499999996,
          0.14619255399999995,
          0.13247189699999976,
          0.46161420399999975,
          0.41412231600000043,
          0.389545555,
          0.1499688670000002,
          0.018977939999999978,
          0.7030332000000005,
          0.6961926120000005,
          0.29967082100000025,
          0.5176499239999997,
          0.1985980769999998,
          0.07130705999999996,
          0.14057369299999978,
          0.05135841100000005,
          0.619925537,
          0.8758929640000008,
          0.5233650929999998,
          0.06538123099999997,
          0.24924724699999973,
          0.17920375700000019,
          0.22010132599999985,
          0.6620361570000003,
          0.1653082299999998,
          0.17050864500000032,
          0.5639167060000004,
          0.6415074160000003,
          0.4616551229999996,
          0.4294527820000002,
          0.20242612800000018,
          1.2821717479999992,
          0.4624636559999995,
          0.4434224899999996,
          0.4977331830000001,
          0.20886876900000015,
          0.27994823999999985,
          0.1329439199999999,
          0.4821344400000006,
          0.1513058550000001,
          0.20366048299999995,
          0.06525603900000004,
          0.163039336,
          0.46526356199999946,
          0.20080179100000006,
          0.166162064,
          0.07349065499999999,
          0.19888680499999997,
          0.9736053310000014,
          0.18722746399999998,
          0.12781431400000007,
          0.13855528300000003,
          0.10085366799999994,
          0.3089550680000002,
          0.10724672299999995,
          0.14777045799999977,
          0.11442441100000009,
          0.066062295,
          0.1671779239999999,
          0.8897660330000008,
          0.06600538699999993,
          0.31991343900000047,
          0.09233778699999999,
          0.11087369099999998,
          0.16213487799999982,
          0.042509967999999995,
          0.099491797,
          0.2568361140000003,
          0.16781841700000008,
          0.316570293,
          0.1280784909999999,
          0.14898737699999995,
          0.11602377200000008,
          0.24701287299999997,
          0.4883326039999995,
          0.46425845500000007,
          0.023962299999999975,
          0.17378208399999995,
          0.06544478599999999,
          0.031310673999999976,
          0.20765010200000006,
          0.2443949729999997,
          0.18076782499999988,
          0.1916964739999998,
          0.16021735900000014,
          0.24259322100000003,
          0.18440918100000014,
          0.033049737999999974,
          0.31229326900000015,
          0.16136093300000012,
          0.12090961900000012,
          0.12360635500000008,
          0.8723427180000012,
          0.12729010999999987,
          0.11232696599999997,
          0.15855751900000023,
          0.10499521799999995,
          0.143814389,
          0.1273959640000001,
          0.05722954099999994,
          0.06678483199999999,
          0.1565654519999999,
          0.07059391300000008,
          0.11565365500000002,
          0.08072792099999998,
          0.1647261769999999,
          0.07328347200000007,
          0.03501497899999995,
          0.13706213900000003,
          0.12172757399999995,
          0.05098296400000006,
          0.11067961199999994,
          0.22865067000000006,
          0.14360214899999987,
          0.047015047999999976,
          0.16732173900000022,
          0.13567411199999999,
          0.09399163299999999,
          0.06696750799999993,
          0.04711187799999997,
          0.034827718000000014,
          0.03007272299999999,
          0.035344013999999944,
          0.05701522300000006,
          0.15933624400000024,
          0.02584491600000001,
          0.031153417000000003,
          0.02914920899999995,
          0.026155208999999985,
          0.027605490000000014,
          0.03017328099999997,
          0.03870365599999995,
          0.041278849999999985,
          0.04345488000000004,
          0.047510598999999994,
          0.03812407999999996,
          0.037968654999999935,
          0.028015117999999985,
          0.019892180000000027,
          0.020120471999999997,
          0.033896112999999936,
          0.018076681999999993,
          0.019705278000000003,
          0.023410122999999988,
          0.015716445000000016,
          0.026741821000000016,
          0.01968121999999998,
          0.01896478199999999
         ]
        },
        {
         "line": {
          "color": "red",
          "dash": "dash"
         },
         "mode": "lines",
         "showlegend": false,
         "type": "scatter",
         "x": [
          0.0053442,
          2.9276028
         ],
         "y": [
          0.0053442,
          2.9276028
         ]
        }
       ],
       "layout": {
        "font": {
         "color": "black",
         "family": "Arial",
         "size": 36
        },
        "height": 600,
        "paper_bgcolor": "rgba(0,0,0,0)",
        "plot_bgcolor": "rgba(0,0,0,0)",
        "showlegend": false,
        "template": {
         "data": {
          "bar": [
           {
            "error_x": {
             "color": "#2a3f5f"
            },
            "error_y": {
             "color": "#2a3f5f"
            },
            "marker": {
             "line": {
              "color": "#E5ECF6",
              "width": 0.5
             },
             "pattern": {
              "fillmode": "overlay",
              "size": 10,
              "solidity": 0.2
             }
            },
            "type": "bar"
           }
          ],
          "barpolar": [
           {
            "marker": {
             "line": {
              "color": "#E5ECF6",
              "width": 0.5
             },
             "pattern": {
              "fillmode": "overlay",
              "size": 10,
              "solidity": 0.2
             }
            },
            "type": "barpolar"
           }
          ],
          "carpet": [
           {
            "aaxis": {
             "endlinecolor": "#2a3f5f",
             "gridcolor": "white",
             "linecolor": "white",
             "minorgridcolor": "white",
             "startlinecolor": "#2a3f5f"
            },
            "baxis": {
             "endlinecolor": "#2a3f5f",
             "gridcolor": "white",
             "linecolor": "white",
             "minorgridcolor": "white",
             "startlinecolor": "#2a3f5f"
            },
            "type": "carpet"
           }
          ],
          "choropleth": [
           {
            "colorbar": {
             "outlinewidth": 0,
             "ticks": ""
            },
            "type": "choropleth"
           }
          ],
          "contour": [
           {
            "colorbar": {
             "outlinewidth": 0,
             "ticks": ""
            },
            "colorscale": [
             [
              0,
              "#0d0887"
             ],
             [
              0.1111111111111111,
              "#46039f"
             ],
             [
              0.2222222222222222,
              "#7201a8"
             ],
             [
              0.3333333333333333,
              "#9c179e"
             ],
             [
              0.4444444444444444,
              "#bd3786"
             ],
             [
              0.5555555555555556,
              "#d8576b"
             ],
             [
              0.6666666666666666,
              "#ed7953"
             ],
             [
              0.7777777777777778,
              "#fb9f3a"
             ],
             [
              0.8888888888888888,
              "#fdca26"
             ],
             [
              1,
              "#f0f921"
             ]
            ],
            "type": "contour"
           }
          ],
          "contourcarpet": [
           {
            "colorbar": {
             "outlinewidth": 0,
             "ticks": ""
            },
            "type": "contourcarpet"
           }
          ],
          "heatmap": [
           {
            "colorbar": {
             "outlinewidth": 0,
             "ticks": ""
            },
            "colorscale": [
             [
              0,
              "#0d0887"
             ],
             [
              0.1111111111111111,
              "#46039f"
             ],
             [
              0.2222222222222222,
              "#7201a8"
             ],
             [
              0.3333333333333333,
              "#9c179e"
             ],
             [
              0.4444444444444444,
              "#bd3786"
             ],
             [
              0.5555555555555556,
              "#d8576b"
             ],
             [
              0.6666666666666666,
              "#ed7953"
             ],
             [
              0.7777777777777778,
              "#fb9f3a"
             ],
             [
              0.8888888888888888,
              "#fdca26"
             ],
             [
              1,
              "#f0f921"
             ]
            ],
            "type": "heatmap"
           }
          ],
          "heatmapgl": [
           {
            "colorbar": {
             "outlinewidth": 0,
             "ticks": ""
            },
            "colorscale": [
             [
              0,
              "#0d0887"
             ],
             [
              0.1111111111111111,
              "#46039f"
             ],
             [
              0.2222222222222222,
              "#7201a8"
             ],
             [
              0.3333333333333333,
              "#9c179e"
             ],
             [
              0.4444444444444444,
              "#bd3786"
             ],
             [
              0.5555555555555556,
              "#d8576b"
             ],
             [
              0.6666666666666666,
              "#ed7953"
             ],
             [
              0.7777777777777778,
              "#fb9f3a"
             ],
             [
              0.8888888888888888,
              "#fdca26"
             ],
             [
              1,
              "#f0f921"
             ]
            ],
            "type": "heatmapgl"
           }
          ],
          "histogram": [
           {
            "marker": {
             "pattern": {
              "fillmode": "overlay",
              "size": 10,
              "solidity": 0.2
             }
            },
            "type": "histogram"
           }
          ],
          "histogram2d": [
           {
            "colorbar": {
             "outlinewidth": 0,
             "ticks": ""
            },
            "colorscale": [
             [
              0,
              "#0d0887"
             ],
             [
              0.1111111111111111,
              "#46039f"
             ],
             [
              0.2222222222222222,
              "#7201a8"
             ],
             [
              0.3333333333333333,
              "#9c179e"
             ],
             [
              0.4444444444444444,
              "#bd3786"
             ],
             [
              0.5555555555555556,
              "#d8576b"
             ],
             [
              0.6666666666666666,
              "#ed7953"
             ],
             [
              0.7777777777777778,
              "#fb9f3a"
             ],
             [
              0.8888888888888888,
              "#fdca26"
             ],
             [
              1,
              "#f0f921"
             ]
            ],
            "type": "histogram2d"
           }
          ],
          "histogram2dcontour": [
           {
            "colorbar": {
             "outlinewidth": 0,
             "ticks": ""
            },
            "colorscale": [
             [
              0,
              "#0d0887"
             ],
             [
              0.1111111111111111,
              "#46039f"
             ],
             [
              0.2222222222222222,
              "#7201a8"
             ],
             [
              0.3333333333333333,
              "#9c179e"
             ],
             [
              0.4444444444444444,
              "#bd3786"
             ],
             [
              0.5555555555555556,
              "#d8576b"
             ],
             [
              0.6666666666666666,
              "#ed7953"
             ],
             [
              0.7777777777777778,
              "#fb9f3a"
             ],
             [
              0.8888888888888888,
              "#fdca26"
             ],
             [
              1,
              "#f0f921"
             ]
            ],
            "type": "histogram2dcontour"
           }
          ],
          "mesh3d": [
           {
            "colorbar": {
             "outlinewidth": 0,
             "ticks": ""
            },
            "type": "mesh3d"
           }
          ],
          "parcoords": [
           {
            "line": {
             "colorbar": {
              "outlinewidth": 0,
              "ticks": ""
             }
            },
            "type": "parcoords"
           }
          ],
          "pie": [
           {
            "automargin": true,
            "type": "pie"
           }
          ],
          "scatter": [
           {
            "fillpattern": {
             "fillmode": "overlay",
             "size": 10,
             "solidity": 0.2
            },
            "type": "scatter"
           }
          ],
          "scatter3d": [
           {
            "line": {
             "colorbar": {
              "outlinewidth": 0,
              "ticks": ""
             }
            },
            "marker": {
             "colorbar": {
              "outlinewidth": 0,
              "ticks": ""
             }
            },
            "type": "scatter3d"
           }
          ],
          "scattercarpet": [
           {
            "marker": {
             "colorbar": {
              "outlinewidth": 0,
              "ticks": ""
             }
            },
            "type": "scattercarpet"
           }
          ],
          "scattergeo": [
           {
            "marker": {
             "colorbar": {
              "outlinewidth": 0,
              "ticks": ""
             }
            },
            "type": "scattergeo"
           }
          ],
          "scattergl": [
           {
            "marker": {
             "colorbar": {
              "outlinewidth": 0,
              "ticks": ""
             }
            },
            "type": "scattergl"
           }
          ],
          "scattermapbox": [
           {
            "marker": {
             "colorbar": {
              "outlinewidth": 0,
              "ticks": ""
             }
            },
            "type": "scattermapbox"
           }
          ],
          "scatterpolar": [
           {
            "marker": {
             "colorbar": {
              "outlinewidth": 0,
              "ticks": ""
             }
            },
            "type": "scatterpolar"
           }
          ],
          "scatterpolargl": [
           {
            "marker": {
             "colorbar": {
              "outlinewidth": 0,
              "ticks": ""
             }
            },
            "type": "scatterpolargl"
           }
          ],
          "scatterternary": [
           {
            "marker": {
             "colorbar": {
              "outlinewidth": 0,
              "ticks": ""
             }
            },
            "type": "scatterternary"
           }
          ],
          "surface": [
           {
            "colorbar": {
             "outlinewidth": 0,
             "ticks": ""
            },
            "colorscale": [
             [
              0,
              "#0d0887"
             ],
             [
              0.1111111111111111,
              "#46039f"
             ],
             [
              0.2222222222222222,
              "#7201a8"
             ],
             [
              0.3333333333333333,
              "#9c179e"
             ],
             [
              0.4444444444444444,
              "#bd3786"
             ],
             [
              0.5555555555555556,
              "#d8576b"
             ],
             [
              0.6666666666666666,
              "#ed7953"
             ],
             [
              0.7777777777777778,
              "#fb9f3a"
             ],
             [
              0.8888888888888888,
              "#fdca26"
             ],
             [
              1,
              "#f0f921"
             ]
            ],
            "type": "surface"
           }
          ],
          "table": [
           {
            "cells": {
             "fill": {
              "color": "#EBF0F8"
             },
             "line": {
              "color": "white"
             }
            },
            "header": {
             "fill": {
              "color": "#C8D4E3"
             },
             "line": {
              "color": "white"
             }
            },
            "type": "table"
           }
          ]
         },
         "layout": {
          "annotationdefaults": {
           "arrowcolor": "#2a3f5f",
           "arrowhead": 0,
           "arrowwidth": 1
          },
          "autotypenumbers": "strict",
          "coloraxis": {
           "colorbar": {
            "outlinewidth": 0,
            "ticks": ""
           }
          },
          "colorscale": {
           "diverging": [
            [
             0,
             "#8e0152"
            ],
            [
             0.1,
             "#c51b7d"
            ],
            [
             0.2,
             "#de77ae"
            ],
            [
             0.3,
             "#f1b6da"
            ],
            [
             0.4,
             "#fde0ef"
            ],
            [
             0.5,
             "#f7f7f7"
            ],
            [
             0.6,
             "#e6f5d0"
            ],
            [
             0.7,
             "#b8e186"
            ],
            [
             0.8,
             "#7fbc41"
            ],
            [
             0.9,
             "#4d9221"
            ],
            [
             1,
             "#276419"
            ]
           ],
           "sequential": [
            [
             0,
             "#0d0887"
            ],
            [
             0.1111111111111111,
             "#46039f"
            ],
            [
             0.2222222222222222,
             "#7201a8"
            ],
            [
             0.3333333333333333,
             "#9c179e"
            ],
            [
             0.4444444444444444,
             "#bd3786"
            ],
            [
             0.5555555555555556,
             "#d8576b"
            ],
            [
             0.6666666666666666,
             "#ed7953"
            ],
            [
             0.7777777777777778,
             "#fb9f3a"
            ],
            [
             0.8888888888888888,
             "#fdca26"
            ],
            [
             1,
             "#f0f921"
            ]
           ],
           "sequentialminus": [
            [
             0,
             "#0d0887"
            ],
            [
             0.1111111111111111,
             "#46039f"
            ],
            [
             0.2222222222222222,
             "#7201a8"
            ],
            [
             0.3333333333333333,
             "#9c179e"
            ],
            [
             0.4444444444444444,
             "#bd3786"
            ],
            [
             0.5555555555555556,
             "#d8576b"
            ],
            [
             0.6666666666666666,
             "#ed7953"
            ],
            [
             0.7777777777777778,
             "#fb9f3a"
            ],
            [
             0.8888888888888888,
             "#fdca26"
            ],
            [
             1,
             "#f0f921"
            ]
           ]
          },
          "colorway": [
           "#636efa",
           "#EF553B",
           "#00cc96",
           "#ab63fa",
           "#FFA15A",
           "#19d3f3",
           "#FF6692",
           "#B6E880",
           "#FF97FF",
           "#FECB52"
          ],
          "font": {
           "color": "#2a3f5f"
          },
          "geo": {
           "bgcolor": "white",
           "lakecolor": "white",
           "landcolor": "#E5ECF6",
           "showlakes": true,
           "showland": true,
           "subunitcolor": "white"
          },
          "hoverlabel": {
           "align": "left"
          },
          "hovermode": "closest",
          "mapbox": {
           "style": "light"
          },
          "paper_bgcolor": "white",
          "plot_bgcolor": "#E5ECF6",
          "polar": {
           "angularaxis": {
            "gridcolor": "white",
            "linecolor": "white",
            "ticks": ""
           },
           "bgcolor": "#E5ECF6",
           "radialaxis": {
            "gridcolor": "white",
            "linecolor": "white",
            "ticks": ""
           }
          },
          "scene": {
           "xaxis": {
            "backgroundcolor": "#E5ECF6",
            "gridcolor": "white",
            "gridwidth": 2,
            "linecolor": "white",
            "showbackground": true,
            "ticks": "",
            "zerolinecolor": "white"
           },
           "yaxis": {
            "backgroundcolor": "#E5ECF6",
            "gridcolor": "white",
            "gridwidth": 2,
            "linecolor": "white",
            "showbackground": true,
            "ticks": "",
            "zerolinecolor": "white"
           },
           "zaxis": {
            "backgroundcolor": "#E5ECF6",
            "gridcolor": "white",
            "gridwidth": 2,
            "linecolor": "white",
            "showbackground": true,
            "ticks": "",
            "zerolinecolor": "white"
           }
          },
          "shapedefaults": {
           "line": {
            "color": "#2a3f5f"
           }
          },
          "ternary": {
           "aaxis": {
            "gridcolor": "white",
            "linecolor": "white",
            "ticks": ""
           },
           "baxis": {
            "gridcolor": "white",
            "linecolor": "white",
            "ticks": ""
           },
           "bgcolor": "#E5ECF6",
           "caxis": {
            "gridcolor": "white",
            "linecolor": "white",
            "ticks": ""
           }
          },
          "title": {
           "x": 0.05
          },
          "xaxis": {
           "automargin": true,
           "gridcolor": "white",
           "linecolor": "white",
           "ticks": "",
           "title": {
            "standoff": 15
           },
           "zerolinecolor": "white",
           "zerolinewidth": 2
          },
          "yaxis": {
           "automargin": true,
           "gridcolor": "white",
           "linecolor": "white",
           "ticks": "",
           "title": {
            "standoff": 15
           },
           "zerolinecolor": "white",
           "zerolinewidth": 2
          }
         }
        },
        "title": {
         "text": "RF Training Set",
         "x": 0.5,
         "y": 0.9
        },
        "width": 640,
        "xaxis": {
         "gridcolor": "gray",
         "title": {
          "text": "DFT D<sub>Li</sub> (x10<sup>-3</sup> cm<sup>2</sup>/s)"
         }
        },
        "yaxis": {
         "gridcolor": "gray",
         "title": {
          "text": "RF D<sub>Li</sub> (x10<sup>-3</sup> cm<sup>2</sup>/s)"
         }
        }
       }
      }
     },
     "metadata": {},
     "output_type": "display_data"
    }
   ],
   "source": [
    "import plotly.graph_objects as go\n",
    "\n",
    "# Create a parity plot using Plotly\n",
    "fig_parity = go.Figure()\n",
    "\n",
    "fig_parity.add_trace(go.Scatter(\n",
    "    x=results_df_train_sorted['diff_coeff_mul_thousand'],\n",
    "    y=results_df_train_sorted['mean_prediction'],\n",
    "    error_y=dict(type='data', array=results_df_train_sorted['std_dev_prediction'], visible=True),\n",
    "    mode='markers',\n",
    "    marker=dict(color='blue'),\n",
    "    text=results_df_train_sorted['formula'],  # Add formula names for hover information\n",
    "    hoverinfo='text+x+y'\n",
    "))\n",
    "\n",
    "# Add a line y=x for reference\n",
    "fig_parity.add_trace(go.Scatter(\n",
    "    x=[min(results_df_train_sorted['diff_coeff_mul_thousand']), max(results_df_train_sorted['diff_coeff_mul_thousand'])],\n",
    "    y=[min(results_df_train_sorted['diff_coeff_mul_thousand']), max(results_df_train_sorted['diff_coeff_mul_thousand'])],\n",
    "    mode='lines',\n",
    "    line=dict(color='red', dash='dash'),\n",
    "    showlegend=False\n",
    "))\n",
    "\n",
    "fig_parity.update_layout(\n",
    "    font=dict(family=\"Arial\", size=36, color=\"black\"),\n",
    "    title=dict(text='RF Training Set', x=0.5, y=0.9),\n",
    "    xaxis_title='DFT D<sub>Li</sub> (x10<sup>-3</sup> cm<sup>2</sup>/s)',\n",
    "    yaxis_title='RF D<sub>Li</sub> (x10<sup>-3</sup> cm<sup>2</sup>/s)',\n",
    "    showlegend=False,\n",
    "    width=640,  # Set figure width\n",
    "    height=600 ,  # Set figure height\n",
    "    paper_bgcolor='rgba(0,0,0,0)',  # Set paper (figure) background to transparent\n",
    "    plot_bgcolor='rgba(0,0,0,0)',  # Set plot background to transparent    \n",
    "    xaxis=dict(gridcolor='gray'),  # Set x-axis grid lines to gray\n",
    "    yaxis=dict(gridcolor='gray')   # Set y-axis grid lines to gray    \n",
    ")\n",
    "\n",
    "fig_parity.write_html(\"parity_plot_random_forest.html\")\n",
    "fig_parity.write_image(\"parity_plot_random_forest.pdf\")\n",
    "fig_parity.show()\n"
   ]
  },
  {
   "cell_type": "code",
   "execution_count": 120,
   "metadata": {},
   "outputs": [
    {
     "data": {
      "application/vnd.plotly.v1+json": {
       "config": {
        "plotlyServerURL": "https://plot.ly"
       },
       "data": [
        {
         "error_y": {
          "array": [
           0.6786944480179483,
           0.480457917291223,
           0.46302302485322977,
           0.4474799972204915,
           0.38492819020361746,
           0.3668153503616491,
           0.3452864549379392,
           0.3446830589886428,
           0.31934299134544186,
           0.2898734450086869,
           0.2897483903612232,
           0.2679021439418039,
           0.267321765020438,
           0.2661926832129983,
           0.2589470647870259,
           0.2567558419871093,
           0.24360071945564327,
           0.2363545831432071,
           0.23445617092759,
           0.22454184699354873,
           0.21657778096280475,
           0.20972387556519148,
           0.20832492623550644,
           0.19513254524097684,
           0.18576854570429877,
           0.18451419074077235,
           0.18060274406845506,
           0.17975385798692226,
           0.1791397645143673,
           0.17753420836300418,
           0.1771224579679649,
           0.1770163211490461,
           0.17372604292195262,
           0.17339406457395898,
           0.17080447783893457,
           0.1654492087637101,
           0.1651155023978533,
           0.16175452316901018,
           0.16043428550590258,
           0.15988815842185428,
           0.15800913298620722,
           0.15647448543820427,
           0.1513056068411482,
           0.14904214850473407,
           0.14881962534770304,
           0.14870595579071244,
           0.14492765559516171,
           0.1441822406962873,
           0.14411460610073856,
           0.14281003927732358,
           0.14279657375266222,
           0.1417373596850382,
           0.14114597248594601,
           0.1356309383096477,
           0.13480884347204103,
           0.13441955254696247,
           0.13126852173363363,
           0.12889592144654202,
           0.1262892686009864,
           0.12256853087104379,
           0.12168996603953149,
           0.11858116413121064,
           0.11828900305720469,
           0.11819767704942251,
           0.11525551467108582,
           0.1134630237663948,
           0.11183231504569831,
           0.11102975757165096,
           0.1085577981119142,
           0.10579506901910424,
           0.10544380254309496,
           0.10521558307641066,
           0.10179271151091897,
           0.10094745229874293,
           0.09959333256155078,
           0.09937893691117479,
           0.09675770735347006,
           0.09399463682653222,
           0.09397401414787176,
           0.09367344596944346,
           0.09334475972034866,
           0.09131906318622102,
           0.09049762648752582,
           0.08935441984097821,
           0.08473255457873254,
           0.08452854038508785,
           0.08260614304809398,
           0.08091685442180496,
           0.08059355162672613,
           0.08002784167154853,
           0.07835890195545492,
           0.07753950543316276,
           0.07492182430776546,
           0.07309190806755765,
           0.07180314564673443,
           0.07055527238823009,
           0.07010741335645049,
           0.06951415979768333,
           0.06792173976514221,
           0.06637698198583226,
           0.06593991925832636,
           0.06466005147741642,
           0.0600062819675555,
           0.0597583871046357,
           0.05929954657357327,
           0.05915751338367913,
           0.05860058337724804,
           0.05745995081564377,
           0.054382672935781834,
           0.05371405798612236,
           0.052965653436529335,
           0.05195631176215651,
           0.05192374534184389,
           0.048527394988832566,
           0.045647598456277604,
           0.04439279879433749,
           0.04197677261764505,
           0.03918231209274433,
           0.010863667024323969
          ],
          "type": "data",
          "visible": true
         },
         "hoverinfo": "text+x+y",
         "marker": {
          "color": "blue"
         },
         "mode": "markers",
         "text": [
          "Li(TiSe2)3",
          "RbLi2",
          "Na9Li13Sn4",
          "SrLi4",
          "LiZn",
          "SrLi4",
          "Li3BiS3",
          "Li9Cd2Sn",
          "Li2Te",
          "Li3BiS3",
          "Li5SbS4",
          "Li(TiSe2)3",
          "Li5Ca3(SiSn)6",
          "RbLi2Sn",
          "Li5SbS4",
          "SrLi4",
          "Li2Te",
          "Li3NbS4",
          "Na3Li2Si3",
          "Li12SnSe2",
          "Li12Co2Si",
          "Li12Co2Si",
          "Li3P",
          "Li5Si3Ru2",
          "Li15Sn2F8",
          "LiTi2",
          "Li9Cr2Sn",
          "Na2Li9",
          "Li5Si3Ru2",
          "Li40Sn7Ru3",
          "Li5Tl2",
          "Na9Li13Sn4",
          "LiRh",
          "Li5Mg3(SiSn)6",
          "Li4(ScSi)3",
          "LiSnI2",
          "Li4Ta",
          "Li12SiPt2",
          "Li12SiNi2",
          "Li28Ni3Sn4",
          "Li12SnB2",
          "Li8YSi",
          "Li12Ag3Sn",
          "Li3V3(BO5)2",
          "K2LiAlP2",
          "Li20InSi9",
          "Li2Te",
          "Li5(ZnSi4)2",
          "Li15CdSi4",
          "Li9NbSi2",
          "Li2Mn",
          "Li4Mo",
          "Li15Ti(SiSn)2",
          "Na9Li13Sn4",
          "Li3Ca2Si",
          "LiTi2",
          "Li4(SiI3)3",
          "LiMo(PO4)2",
          "Li3N",
          "LiP3(WO6)2",
          "Li3CuS2",
          "Li40Si9Bi",
          "Li2V(Si2O5)3",
          "Ba3LiSi6",
          "Li15CdSi4",
          "Li19Si63",
          "Li2ZnSiO4",
          "Li4(TiSi)3",
          "Li5Si4Au",
          "Li3Bi2(PO4)3",
          "Li2AlVO4",
          "Li27Sn5",
          "Li2Pd",
          "LiTi2(PO4)3",
          "LiSiAg",
          "Li5GaO4",
          "Li12SiNi2",
          "Li4Sb",
          "Li16Fe3Si",
          "Li2CdGeO4",
          "Li10Zr3(Si8Sn)3",
          "Li4(ScSi)3",
          "Li2MoO3",
          "Li12SnB2",
          "Li3CuSn",
          "Li3CuO3",
          "Li3P",
          "Li2ZnSiO4",
          "Li4(SiTc)3",
          "Li2AlVO4",
          "SrLi10Si8Sn",
          "Li2Mo3S4",
          "LiTiSiO4",
          "Li40Sn7Ru3",
          "Li9Fe2Sn",
          "Li5Ca3(SiSn)6",
          "Li4VCr3O8",
          "Rb3Li2Si3",
          "Li20InSi9",
          "LiNbN2",
          "LiSi",
          "Li4InSn",
          "Li11Mn4Si7",
          "Li2Co3(SeO3)4",
          "Li6Hf2O7",
          "Li5GaO4",
          "Li3NbO4",
          "LiNiO2",
          "LiZn",
          "Li9(SiAs2)2",
          "Li2Te",
          "Li12CoSn3",
          "LiAgO2",
          "Li4InSn",
          "LiMo(PO4)2",
          "Li2VPO4F",
          "Li5Si4Au",
          "Li5(ZnSi4)2",
          "Li2PdO3"
         ],
         "type": "scatter",
         "x": [
          1.6700615,
          2.0609027,
          1.8959514,
          2.4048555,
          1.052739,
          1.6307372,
          0.8706067000000001,
          1.6085937,
          1.3989864,
          1.2557935,
          1.3907156,
          1.0896552,
          1.1714117,
          1.0008485,
          0.9232293,
          1.0637159,
          0.9096228,
          1.3490744,
          1.5130599,
          1.7508791,
          1.813755,
          0.7451859000000001,
          0.7740490000000001,
          0.5481385000000001,
          1.1027462,
          0.8328573,
          1.0781147,
          0.6603288,
          0.8494889,
          1.6851327,
          0.5753168000000001,
          0.6552421,
          0.3849599,
          1.2212551,
          0.5532462,
          0.444681,
          0.9467469,
          1.6157017,
          2.0463305,
          1.828955,
          1.4271363,
          1.2566415000000002,
          1.7058673000000002,
          0.5768686,
          0.2081837,
          1.423328,
          0.4878425,
          1.2017699,
          1.4925492,
          0.6179830000000001,
          0.6568002,
          0.8983828,
          0.4966285,
          0.2728094,
          0.1798153,
          0.3746663,
          0.4131480999999999,
          0.6085530000000001,
          0.1422194,
          0.6092257999999999,
          0.3777357,
          1.0097646,
          0.1187546,
          0.2184168,
          1.0096008,
          0.4467559,
          0.3077394,
          0.3072781,
          0.8081096,
          0.2777782,
          0.5129754000000001,
          0.6214814000000001,
          0.1264423999999999,
          0.2363756,
          0.2933407,
          0.7248712,
          0.3360446,
          1.0534379,
          0.3418403,
          0.2562069,
          0.0823158,
          0.2124889,
          0.3831207,
          0.2992997,
          0.3844471,
          0.4080055,
          0.0514272,
          0.5150412,
          0.1182545,
          0.3684908,
          0.0968135,
          0.1182979,
          0.0819771,
          0.1959785,
          0.2479914,
          0.3829422,
          0.3551136,
          0.1077033,
          0.1209718,
          0.0862271,
          0.4912607,
          0.5177803,
          0.047049,
          0.1093224,
          0.1208906,
          0.2059662,
          0.0668493,
          0.618684,
          0.124261,
          0.1076358,
          0.1795255,
          0.9602643,
          0.2614365,
          0.1369133,
          0.0995838,
          0.1874617,
          0.076259,
          0.1168134,
          0.0261614
         ],
         "y": [
          1.622043469999999,
          1.5729420119999997,
          1.5570314739999989,
          2.2847701869999977,
          1.2937261539999994,
          1.5444976419999998,
          1.0014147130000002,
          1.7746822719999995,
          1.5977734150000003,
          1.3867489830000002,
          1.4852320100000003,
          0.8625928020000002,
          1.310667093,
          0.9681564470000004,
          1.0239038400000002,
          1.064647146,
          1.0630255650000007,
          1.3011530380000007,
          1.123056717999999,
          1.777220245,
          1.8450877119999995,
          0.6517270870000001,
          0.8509236799999994,
          0.5710318470000001,
          0.8508339690000001,
          0.757778216,
          1.1866836540000003,
          0.44956951599999967,
          0.8194308110000003,
          1.6433645139999995,
          0.5989752970000003,
          0.5737497090000006,
          0.516846716,
          1.3014050910000012,
          0.6666798509999998,
          0.2784546919999998,
          0.7763106260000003,
          1.713319812000001,
          1.8711681429999998,
          1.8009521730000007,
          1.1858710639999999,
          1.3651952139999994,
          1.617224664,
          0.56279426,
          0.4341566360000004,
          1.3974474630000002,
          0.4903280169999997,
          1.2831722499999996,
          1.602357275999999,
          0.6020318029999998,
          0.33237230300000015,
          0.7227379500000007,
          0.6146536240000002,
          0.19886165699999991,
          0.25301808800000014,
          0.36305286,
          0.2838133569999997,
          0.5419351779999997,
          0.20710594699999998,
          0.5752077829999998,
          0.40283632599999986,
          1.181814599,
          0.2651495769999998,
          0.39418911100000015,
          0.994820754,
          0.362913165,
          0.36687202199999996,
          0.3249264609999998,
          0.8020325259999997,
          0.40613732400000013,
          0.59690632,
          0.6184251250000006,
          0.1540510679999999,
          0.26393807699999994,
          0.4010031930000001,
          0.7390810790000001,
          0.29423093800000005,
          1.0274481030000002,
          0.29664148000000007,
          0.3972338659999999,
          0.14187149099999996,
          0.3886835760000002,
          0.3884999370000003,
          0.22283845999999993,
          0.415726297,
          0.4323142240000002,
          0.17593349399999997,
          0.6654844890000002,
          0.16900747700000004,
          0.312742942,
          0.155543302,
          0.10831538499999993,
          0.1074338950000001,
          0.1929396989999999,
          0.21566246199999997,
          0.44819301600000017,
          0.36576116700000005,
          0.10689709299999997,
          0.13907342999999994,
          0.11872469900000006,
          0.46002646000000036,
          0.502355619,
          0.08331603900000002,
          0.104171097,
          0.15192060400000007,
          0.20972143199999999,
          0.1447710800000001,
          0.6556983140000002,
          0.09361865899999998,
          0.12619282199999998,
          0.15950276300000005,
          0.9707250999999998,
          0.15968748800000004,
          0.1452409730000001,
          0.12025966199999998,
          0.17712193700000003,
          0.10363236499999999,
          0.13056884099999994,
          0.029847104
         ]
        },
        {
         "line": {
          "color": "red",
          "dash": "dash"
         },
         "mode": "lines",
         "showlegend": false,
         "type": "scatter",
         "x": [
          0.0261614,
          2.4048555
         ],
         "y": [
          0.0261614,
          2.4048555
         ]
        }
       ],
       "layout": {
        "font": {
         "color": "black",
         "family": "Arial",
         "size": 36
        },
        "height": 600,
        "paper_bgcolor": "rgba(0,0,0,0)",
        "plot_bgcolor": "rgba(0,0,0,0)",
        "showlegend": false,
        "template": {
         "data": {
          "bar": [
           {
            "error_x": {
             "color": "#2a3f5f"
            },
            "error_y": {
             "color": "#2a3f5f"
            },
            "marker": {
             "line": {
              "color": "#E5ECF6",
              "width": 0.5
             },
             "pattern": {
              "fillmode": "overlay",
              "size": 10,
              "solidity": 0.2
             }
            },
            "type": "bar"
           }
          ],
          "barpolar": [
           {
            "marker": {
             "line": {
              "color": "#E5ECF6",
              "width": 0.5
             },
             "pattern": {
              "fillmode": "overlay",
              "size": 10,
              "solidity": 0.2
             }
            },
            "type": "barpolar"
           }
          ],
          "carpet": [
           {
            "aaxis": {
             "endlinecolor": "#2a3f5f",
             "gridcolor": "white",
             "linecolor": "white",
             "minorgridcolor": "white",
             "startlinecolor": "#2a3f5f"
            },
            "baxis": {
             "endlinecolor": "#2a3f5f",
             "gridcolor": "white",
             "linecolor": "white",
             "minorgridcolor": "white",
             "startlinecolor": "#2a3f5f"
            },
            "type": "carpet"
           }
          ],
          "choropleth": [
           {
            "colorbar": {
             "outlinewidth": 0,
             "ticks": ""
            },
            "type": "choropleth"
           }
          ],
          "contour": [
           {
            "colorbar": {
             "outlinewidth": 0,
             "ticks": ""
            },
            "colorscale": [
             [
              0,
              "#0d0887"
             ],
             [
              0.1111111111111111,
              "#46039f"
             ],
             [
              0.2222222222222222,
              "#7201a8"
             ],
             [
              0.3333333333333333,
              "#9c179e"
             ],
             [
              0.4444444444444444,
              "#bd3786"
             ],
             [
              0.5555555555555556,
              "#d8576b"
             ],
             [
              0.6666666666666666,
              "#ed7953"
             ],
             [
              0.7777777777777778,
              "#fb9f3a"
             ],
             [
              0.8888888888888888,
              "#fdca26"
             ],
             [
              1,
              "#f0f921"
             ]
            ],
            "type": "contour"
           }
          ],
          "contourcarpet": [
           {
            "colorbar": {
             "outlinewidth": 0,
             "ticks": ""
            },
            "type": "contourcarpet"
           }
          ],
          "heatmap": [
           {
            "colorbar": {
             "outlinewidth": 0,
             "ticks": ""
            },
            "colorscale": [
             [
              0,
              "#0d0887"
             ],
             [
              0.1111111111111111,
              "#46039f"
             ],
             [
              0.2222222222222222,
              "#7201a8"
             ],
             [
              0.3333333333333333,
              "#9c179e"
             ],
             [
              0.4444444444444444,
              "#bd3786"
             ],
             [
              0.5555555555555556,
              "#d8576b"
             ],
             [
              0.6666666666666666,
              "#ed7953"
             ],
             [
              0.7777777777777778,
              "#fb9f3a"
             ],
             [
              0.8888888888888888,
              "#fdca26"
             ],
             [
              1,
              "#f0f921"
             ]
            ],
            "type": "heatmap"
           }
          ],
          "heatmapgl": [
           {
            "colorbar": {
             "outlinewidth": 0,
             "ticks": ""
            },
            "colorscale": [
             [
              0,
              "#0d0887"
             ],
             [
              0.1111111111111111,
              "#46039f"
             ],
             [
              0.2222222222222222,
              "#7201a8"
             ],
             [
              0.3333333333333333,
              "#9c179e"
             ],
             [
              0.4444444444444444,
              "#bd3786"
             ],
             [
              0.5555555555555556,
              "#d8576b"
             ],
             [
              0.6666666666666666,
              "#ed7953"
             ],
             [
              0.7777777777777778,
              "#fb9f3a"
             ],
             [
              0.8888888888888888,
              "#fdca26"
             ],
             [
              1,
              "#f0f921"
             ]
            ],
            "type": "heatmapgl"
           }
          ],
          "histogram": [
           {
            "marker": {
             "pattern": {
              "fillmode": "overlay",
              "size": 10,
              "solidity": 0.2
             }
            },
            "type": "histogram"
           }
          ],
          "histogram2d": [
           {
            "colorbar": {
             "outlinewidth": 0,
             "ticks": ""
            },
            "colorscale": [
             [
              0,
              "#0d0887"
             ],
             [
              0.1111111111111111,
              "#46039f"
             ],
             [
              0.2222222222222222,
              "#7201a8"
             ],
             [
              0.3333333333333333,
              "#9c179e"
             ],
             [
              0.4444444444444444,
              "#bd3786"
             ],
             [
              0.5555555555555556,
              "#d8576b"
             ],
             [
              0.6666666666666666,
              "#ed7953"
             ],
             [
              0.7777777777777778,
              "#fb9f3a"
             ],
             [
              0.8888888888888888,
              "#fdca26"
             ],
             [
              1,
              "#f0f921"
             ]
            ],
            "type": "histogram2d"
           }
          ],
          "histogram2dcontour": [
           {
            "colorbar": {
             "outlinewidth": 0,
             "ticks": ""
            },
            "colorscale": [
             [
              0,
              "#0d0887"
             ],
             [
              0.1111111111111111,
              "#46039f"
             ],
             [
              0.2222222222222222,
              "#7201a8"
             ],
             [
              0.3333333333333333,
              "#9c179e"
             ],
             [
              0.4444444444444444,
              "#bd3786"
             ],
             [
              0.5555555555555556,
              "#d8576b"
             ],
             [
              0.6666666666666666,
              "#ed7953"
             ],
             [
              0.7777777777777778,
              "#fb9f3a"
             ],
             [
              0.8888888888888888,
              "#fdca26"
             ],
             [
              1,
              "#f0f921"
             ]
            ],
            "type": "histogram2dcontour"
           }
          ],
          "mesh3d": [
           {
            "colorbar": {
             "outlinewidth": 0,
             "ticks": ""
            },
            "type": "mesh3d"
           }
          ],
          "parcoords": [
           {
            "line": {
             "colorbar": {
              "outlinewidth": 0,
              "ticks": ""
             }
            },
            "type": "parcoords"
           }
          ],
          "pie": [
           {
            "automargin": true,
            "type": "pie"
           }
          ],
          "scatter": [
           {
            "fillpattern": {
             "fillmode": "overlay",
             "size": 10,
             "solidity": 0.2
            },
            "type": "scatter"
           }
          ],
          "scatter3d": [
           {
            "line": {
             "colorbar": {
              "outlinewidth": 0,
              "ticks": ""
             }
            },
            "marker": {
             "colorbar": {
              "outlinewidth": 0,
              "ticks": ""
             }
            },
            "type": "scatter3d"
           }
          ],
          "scattercarpet": [
           {
            "marker": {
             "colorbar": {
              "outlinewidth": 0,
              "ticks": ""
             }
            },
            "type": "scattercarpet"
           }
          ],
          "scattergeo": [
           {
            "marker": {
             "colorbar": {
              "outlinewidth": 0,
              "ticks": ""
             }
            },
            "type": "scattergeo"
           }
          ],
          "scattergl": [
           {
            "marker": {
             "colorbar": {
              "outlinewidth": 0,
              "ticks": ""
             }
            },
            "type": "scattergl"
           }
          ],
          "scattermapbox": [
           {
            "marker": {
             "colorbar": {
              "outlinewidth": 0,
              "ticks": ""
             }
            },
            "type": "scattermapbox"
           }
          ],
          "scatterpolar": [
           {
            "marker": {
             "colorbar": {
              "outlinewidth": 0,
              "ticks": ""
             }
            },
            "type": "scatterpolar"
           }
          ],
          "scatterpolargl": [
           {
            "marker": {
             "colorbar": {
              "outlinewidth": 0,
              "ticks": ""
             }
            },
            "type": "scatterpolargl"
           }
          ],
          "scatterternary": [
           {
            "marker": {
             "colorbar": {
              "outlinewidth": 0,
              "ticks": ""
             }
            },
            "type": "scatterternary"
           }
          ],
          "surface": [
           {
            "colorbar": {
             "outlinewidth": 0,
             "ticks": ""
            },
            "colorscale": [
             [
              0,
              "#0d0887"
             ],
             [
              0.1111111111111111,
              "#46039f"
             ],
             [
              0.2222222222222222,
              "#7201a8"
             ],
             [
              0.3333333333333333,
              "#9c179e"
             ],
             [
              0.4444444444444444,
              "#bd3786"
             ],
             [
              0.5555555555555556,
              "#d8576b"
             ],
             [
              0.6666666666666666,
              "#ed7953"
             ],
             [
              0.7777777777777778,
              "#fb9f3a"
             ],
             [
              0.8888888888888888,
              "#fdca26"
             ],
             [
              1,
              "#f0f921"
             ]
            ],
            "type": "surface"
           }
          ],
          "table": [
           {
            "cells": {
             "fill": {
              "color": "#EBF0F8"
             },
             "line": {
              "color": "white"
             }
            },
            "header": {
             "fill": {
              "color": "#C8D4E3"
             },
             "line": {
              "color": "white"
             }
            },
            "type": "table"
           }
          ]
         },
         "layout": {
          "annotationdefaults": {
           "arrowcolor": "#2a3f5f",
           "arrowhead": 0,
           "arrowwidth": 1
          },
          "autotypenumbers": "strict",
          "coloraxis": {
           "colorbar": {
            "outlinewidth": 0,
            "ticks": ""
           }
          },
          "colorscale": {
           "diverging": [
            [
             0,
             "#8e0152"
            ],
            [
             0.1,
             "#c51b7d"
            ],
            [
             0.2,
             "#de77ae"
            ],
            [
             0.3,
             "#f1b6da"
            ],
            [
             0.4,
             "#fde0ef"
            ],
            [
             0.5,
             "#f7f7f7"
            ],
            [
             0.6,
             "#e6f5d0"
            ],
            [
             0.7,
             "#b8e186"
            ],
            [
             0.8,
             "#7fbc41"
            ],
            [
             0.9,
             "#4d9221"
            ],
            [
             1,
             "#276419"
            ]
           ],
           "sequential": [
            [
             0,
             "#0d0887"
            ],
            [
             0.1111111111111111,
             "#46039f"
            ],
            [
             0.2222222222222222,
             "#7201a8"
            ],
            [
             0.3333333333333333,
             "#9c179e"
            ],
            [
             0.4444444444444444,
             "#bd3786"
            ],
            [
             0.5555555555555556,
             "#d8576b"
            ],
            [
             0.6666666666666666,
             "#ed7953"
            ],
            [
             0.7777777777777778,
             "#fb9f3a"
            ],
            [
             0.8888888888888888,
             "#fdca26"
            ],
            [
             1,
             "#f0f921"
            ]
           ],
           "sequentialminus": [
            [
             0,
             "#0d0887"
            ],
            [
             0.1111111111111111,
             "#46039f"
            ],
            [
             0.2222222222222222,
             "#7201a8"
            ],
            [
             0.3333333333333333,
             "#9c179e"
            ],
            [
             0.4444444444444444,
             "#bd3786"
            ],
            [
             0.5555555555555556,
             "#d8576b"
            ],
            [
             0.6666666666666666,
             "#ed7953"
            ],
            [
             0.7777777777777778,
             "#fb9f3a"
            ],
            [
             0.8888888888888888,
             "#fdca26"
            ],
            [
             1,
             "#f0f921"
            ]
           ]
          },
          "colorway": [
           "#636efa",
           "#EF553B",
           "#00cc96",
           "#ab63fa",
           "#FFA15A",
           "#19d3f3",
           "#FF6692",
           "#B6E880",
           "#FF97FF",
           "#FECB52"
          ],
          "font": {
           "color": "#2a3f5f"
          },
          "geo": {
           "bgcolor": "white",
           "lakecolor": "white",
           "landcolor": "#E5ECF6",
           "showlakes": true,
           "showland": true,
           "subunitcolor": "white"
          },
          "hoverlabel": {
           "align": "left"
          },
          "hovermode": "closest",
          "mapbox": {
           "style": "light"
          },
          "paper_bgcolor": "white",
          "plot_bgcolor": "#E5ECF6",
          "polar": {
           "angularaxis": {
            "gridcolor": "white",
            "linecolor": "white",
            "ticks": ""
           },
           "bgcolor": "#E5ECF6",
           "radialaxis": {
            "gridcolor": "white",
            "linecolor": "white",
            "ticks": ""
           }
          },
          "scene": {
           "xaxis": {
            "backgroundcolor": "#E5ECF6",
            "gridcolor": "white",
            "gridwidth": 2,
            "linecolor": "white",
            "showbackground": true,
            "ticks": "",
            "zerolinecolor": "white"
           },
           "yaxis": {
            "backgroundcolor": "#E5ECF6",
            "gridcolor": "white",
            "gridwidth": 2,
            "linecolor": "white",
            "showbackground": true,
            "ticks": "",
            "zerolinecolor": "white"
           },
           "zaxis": {
            "backgroundcolor": "#E5ECF6",
            "gridcolor": "white",
            "gridwidth": 2,
            "linecolor": "white",
            "showbackground": true,
            "ticks": "",
            "zerolinecolor": "white"
           }
          },
          "shapedefaults": {
           "line": {
            "color": "#2a3f5f"
           }
          },
          "ternary": {
           "aaxis": {
            "gridcolor": "white",
            "linecolor": "white",
            "ticks": ""
           },
           "baxis": {
            "gridcolor": "white",
            "linecolor": "white",
            "ticks": ""
           },
           "bgcolor": "#E5ECF6",
           "caxis": {
            "gridcolor": "white",
            "linecolor": "white",
            "ticks": ""
           }
          },
          "title": {
           "x": 0.05
          },
          "xaxis": {
           "automargin": true,
           "gridcolor": "white",
           "linecolor": "white",
           "ticks": "",
           "title": {
            "standoff": 15
           },
           "zerolinecolor": "white",
           "zerolinewidth": 2
          },
          "yaxis": {
           "automargin": true,
           "gridcolor": "white",
           "linecolor": "white",
           "ticks": "",
           "title": {
            "standoff": 15
           },
           "zerolinecolor": "white",
           "zerolinewidth": 2
          }
         }
        },
        "title": {
         "text": "RF Test Set",
         "x": 0.5,
         "y": 0.9
        },
        "width": 640,
        "xaxis": {
         "gridcolor": "gray",
         "title": {
          "text": "DFT D<sub>Li</sub> (x10<sup>-3</sup> cm<sup>2</sup>/s)"
         }
        },
        "yaxis": {
         "gridcolor": "gray",
         "title": {
          "text": "RF D<sub>Li</sub> (x10<sup>-3</sup> cm<sup>2</sup>/s)"
         }
        }
       }
      }
     },
     "metadata": {},
     "output_type": "display_data"
    }
   ],
   "source": [
    "\n",
    "import plotly.graph_objects as go\n",
    "\n",
    "# Create a parity plot using Plotly\n",
    "fig_parity = go.Figure()\n",
    "\n",
    "fig_parity.add_trace(go.Scatter(\n",
    "    x=results_df_test_sorted['diff_coeff_mul_thousand'],\n",
    "    y=results_df_test_sorted['mean_prediction'],\n",
    "    error_y=dict(type='data', array=results_df_test_sorted['std_dev_prediction'], visible=True),\n",
    "    mode='markers',\n",
    "    marker=dict(color='blue'),\n",
    "    text=results_df_test_sorted['formula'],  # Add formula names for hover information\n",
    "    hoverinfo='text+x+y'\n",
    "))\n",
    "\n",
    "# Add a line y=x for reference\n",
    "fig_parity.add_trace(go.Scatter(\n",
    "    x=[min(results_df_test_sorted['diff_coeff_mul_thousand']), max(results_df_test_sorted['diff_coeff_mul_thousand'])],\n",
    "    y=[min(results_df_test_sorted['diff_coeff_mul_thousand']), max(results_df_test_sorted['diff_coeff_mul_thousand'])],\n",
    "    mode='lines',\n",
    "    line=dict(color='red', dash='dash'),\n",
    "    showlegend=False\n",
    "))\n",
    "\n",
    "fig_parity.update_layout(\n",
    "    font=dict(family=\"Arial\", size=36, color=\"black\"),\n",
    "    title=dict(text='RF Test Set', x=0.5, y=0.9),\n",
    "    xaxis_title='DFT D<sub>Li</sub> (x10<sup>-3</sup> cm<sup>2</sup>/s)',\n",
    "    yaxis_title='RF D<sub>Li</sub> (x10<sup>-3</sup> cm<sup>2</sup>/s)',\n",
    "    showlegend=False,\n",
    "    width=640,  # Set figure width\n",
    "    height=600 ,  # Set figure height\n",
    "    paper_bgcolor='rgba(0,0,0,0)',  # Set paper (figure) background to transparent\n",
    "    plot_bgcolor='rgba(0,0,0,0)',  # Set plot background to transparent    \n",
    "    xaxis=dict(gridcolor='gray'),  # Set x-axis grid lines to gray\n",
    "    yaxis=dict(gridcolor='gray')   # Set y-axis grid lines to gray    \n",
    ")\n",
    "\n",
    "fig_parity.write_html(\"parity_plot_random_forest_test.html\")\n",
    "fig_parity.write_image(\"parity_plot_random_forest_test.pdf\")\n",
    "fig_parity.show()"
   ]
  },
  {
   "cell_type": "code",
   "execution_count": null,
   "metadata": {},
   "outputs": [],
   "source": [
    "\n"
   ]
  },
  {
   "cell_type": "code",
   "execution_count": 113,
   "metadata": {},
   "outputs": [
    {
     "name": "stdout",
     "output_type": "stream",
     "text": [
      "Training Data - MAE: 0.03356987171471024\n",
      "Training Data - R2: 0.9908653212901645\n",
      "Training Data - RMSE: 0.051211516855205856\n",
      "Test Data - MAE: 0.08420381813445384\n",
      "Test Data - R2: 0.9545490804524269\n",
      "Test Data - RMSE: 0.11968424455151909\n"
     ]
    }
   ],
   "source": [
    "from sklearn.ensemble import RandomForestRegressor\n",
    "from sklearn.metrics import mean_absolute_error, r2_score, mean_squared_error\n",
    "import numpy as np\n",
    "\n",
    "# Assuming X_train, X_test, y_train, y_test are already defined\n",
    "\n",
    "# Step 1: Train the model\n",
    "model = RandomForestRegressor( n_estimators=100, random_state=62)\n",
    "model.fit(X_train, y_train)\n",
    "\n",
    "# Step 2: Predict on the training data\n",
    "mean_prediction_train = model.predict(X_train)\n",
    "\n",
    "# Step 3: Calculate MAE, R2, and RMSE for the training data\n",
    "mae_train = mean_absolute_error(y_train, mean_prediction_train)\n",
    "r2_train = r2_score(y_train, mean_prediction_train)\n",
    "rmse_train = np.sqrt(mean_squared_error(y_train, mean_prediction_train))\n",
    "\n",
    "print(\"Training Data - MAE:\", mae_train)\n",
    "print(\"Training Data - R2:\", r2_train)\n",
    "print(\"Training Data - RMSE:\", rmse_train)\n",
    "\n",
    "# Step 4: Predict on the test data\n",
    "mean_prediction_test = model.predict(X_test)\n",
    "\n",
    "# Step 5: Calculate MAE, R2, and RMSE for the test data\n",
    "mae_test = mean_absolute_error(y_test, mean_prediction_test)\n",
    "r2_test = r2_score(y_test, mean_prediction_test)\n",
    "rmse_test = np.sqrt(mean_squared_error(y_test, mean_prediction_test))\n",
    "\n",
    "print(\"Test Data - MAE:\", mae_test)\n",
    "print(\"Test Data - R2:\", r2_test)\n",
    "print(\"Test Data - RMSE:\", rmse_test)"
   ]
  },
  {
   "cell_type": "code",
   "execution_count": 118,
   "metadata": {},
   "outputs": [
    {
     "data": {
      "image/png": "[encoded data removed]",
      "text/plain": [
       "<Figure size 504x504 with 1 Axes>"
      ]
     },
     "metadata": {
      "needs_background": "light"
     },
     "output_type": "display_data"
    }
   ],
   "source": [
    "\n",
    "from matplotlib import colors as mcolors\n",
    "import seaborn as sns\n",
    "import pandas\n",
    "import matplotlib\n",
    "font_size = 38\n",
    "matplotlib.rcParams['font.size'] = font_size\n",
    "matplotlib.rcParams['axes.titlesize'] = font_size\n",
    "matplotlib.rcParams['xtick.labelsize'] = font_size  # Set x-tick label size\n",
    "matplotlib.rcParams['ytick.labelsize'] = font_size  # Set x-tick label size\n",
    "matplotlib.rcParams['font.sans-serif'] = \"Arial\"\n",
    "matplotlib.rcParams['font.family'] = \"sans-serif\"\n",
    "\n",
    "\n",
    "feature_importances_rf = pandas.DataFrame({\"feature\": X_train.columns, \"importance\": rf.feature_importances_}).sort_values(by=\"importance\", ascending=False)\n",
    "# plt.figure(figsize=(7,7),dpi=300)\n",
    "fig, ax = plt.subplots(figsize=(7,7))\n",
    "\n",
    "# ax = sns.barplot(feature_importances_rf[0:11], x=\"importance\", y=\"feature\", ax=ax,)\n",
    "ax = sns.barplot(data=feature_importances_rf[0:11], x=\"importance\", y=\"feature\", ax=ax)\n",
    "plot_colors = [rect.get_facecolor() for rect in ax.patches]\n",
    "plot_colors_hex = [mcolors.to_hex(rgba) for rgba in plot_colors]\n",
    "\n",
    "labels = [item.get_text() for item in ax.get_yticklabels()]\n",
    "labels[0] = 'Temperature'\n",
    "labels[6] = r'$\\overline{X}$'\n",
    "labels[10] = 'Li%'\n",
    "# labels[12] = r'E$_{coh}^{Li}$'\n",
    "# labels[14] = r'E$_{coh}$'\n",
    "\n",
    "ax.set_yticklabels(labels)\n",
    "\n",
    "# plt.yticks(ax.get_yticks(), labels, )\n",
    "\n",
    "# fig = ax.get_figure()\n",
    "plt.title(\"Random Forest \")\n",
    "plt.xlabel(\"Feature Importance\")\n",
    "fig.savefig('RF_feature_importance.pdf',  bbox_inches='tight')\n",
    "# plt.show()\n"
   ]
  },
  {
   "cell_type": "code",
   "execution_count": 115,
   "metadata": {},
   "outputs": [],
   "source": [
    "# feature_importances_rf"
   ]
  },
  {
   "cell_type": "code",
   "execution_count": 76,
   "metadata": {},
   "outputs": [],
   "source": [
    "import numpy as np\n",
    "import pandas as pd\n",
    "import matplotlib.pyplot as plt\n",
    "from sklearn.ensemble import RandomForestRegressor\n",
    "from sklearn.model_selection import train_test_split\n",
    "from sklearn.metrics import mean_squared_error\n",
    "from math import sqrt\n",
    "\n",
    "\n",
    "# Load and preprocess data\n",
    "# df = pd.read_csv(\"/path/to/your/data.csv\")\n",
    "# df_clean = df.drop(columns=['Unnamed: 0', 'formula'])  # Adjust columns as needed\n",
    "\n",
    "# # Define features and target\n",
    "# X = df_clean.drop(columns=[\"diff_coeff_mul_thousand\"])\n",
    "# y = df_clean[\"diff_coeff_mul_thousand\"]\n",
    "\n",
    "# # Split the data into training and testing sets\n",
    "# X_train, X_test, y_train, y_test = train_test_split(X, y, train_size=0.85, random_state=62)\n",
    "\n",
    "# Initialize variables to store errors\n",
    "train_errors = []\n",
    "test_errors = []\n",
    "n_estimators = range(1, 201)\n",
    "\n",
    "# Evaluate the model with different numbers of trees\n",
    "for n in n_estimators:\n",
    "    rf = RandomForestRegressor(n_estimators=n, random_state=62)\n",
    "    rf.fit(X_train, y_train)\n",
    "    y_train_pred = rf.predict(X_train)\n",
    "    y_test_pred = rf.predict(X_test)\n",
    "    # train_errors.append(mean_squared_error(y_train, y_train_pred))\n",
    "    train_errors.append(sqrt(mean_squared_error(y_train, y_train_pred)))\n",
    "    test_errors.append(sqrt(mean_squared_error(y_test, y_test_pred)))\n",
    "\n"
   ]
  },
  {
   "cell_type": "code",
   "execution_count": 88,
   "metadata": {},
   "outputs": [
    {
     "data": {
      "application/vnd.plotly.v1+json": {
       "config": {
        "plotlyServerURL": "https://plot.ly"
       },
       "data": [
        {
         "mode": "lines",
         "name": "Train",
         "type": "scatter",
         "x": [
          1,
          2,
          3,
          4,
          5,
          6,
          7,
          8,
          9,
          10,
          11,
          12,
          13,
          14,
          15,
          16,
          17,
          18,
          19,
          20,
          21,
          22,
          23,
          24,
          25,
          26,
          27,
          28,
          29,
          30,
          31,
          32,
          33,
          34,
          35,
          36,
          37,
          38,
          39,
          40,
          41,
          42,
          43,
          44,
          45,
          46,
          47,
          48,
          49,
          50,
          51,
          52,
          53,
          54,
          55,
          56,
          57,
          58,
          59,
          60,
          61,
          62,
          63,
          64,
          65,
          66,
          67,
          68,
          69,
          70,
          71,
          72,
          73,
          74,
          75,
          76,
          77,
          78,
          79,
          80,
          81,
          82,
          83,
          84,
          85,
          86,
          87,
          88,
          89,
          90,
          91,
          92,
          93,
          94,
          95,
          96,
          97,
          98,
          99,
          100,
          101,
          102,
          103,
          104,
          105,
          106,
          107,
          108,
          109,
          110,
          111,
          112,
          113,
          114,
          115,
          116,
          117,
          118,
          119,
          120,
          121,
          122,
          123,
          124,
          125,
          126,
          127,
          128,
          129,
          130,
          131,
          132,
          133,
          134,
          135,
          136,
          137,
          138,
          139,
          140,
          141,
          142,
          143,
          144,
          145,
          146,
          147,
          148,
          149,
          150,
          151,
          152,
          153,
          154,
          155,
          156,
          157,
          158,
          159,
          160,
          161,
          162,
          163,
          164,
          165,
          166,
          167,
          168,
          169,
          170,
          171,
          172,
          173,
          174,
          175,
          176,
          177,
          178,
          179,
          180,
          181,
          182,
          183,
          184,
          185,
          186,
          187,
          188,
          189,
          190,
          191,
          192,
          193,
          194,
          195,
          196,
          197,
          198,
          199,
          200
         ],
         "y": [
          0.12258793277588707,
          0.09603114412823019,
          0.08005270454151768,
          0.07615903459939283,
          0.07497849982774216,
          0.07142663640724886,
          0.0713073838395623,
          0.07027364593555752,
          0.06756074106178928,
          0.0662150051264005,
          0.06592492981728569,
          0.06329999460479736,
          0.06320898517856849,
          0.06260429742136567,
          0.062426956711020755,
          0.06195609921627815,
          0.06200345277241217,
          0.06021205064427784,
          0.05936105522452123,
          0.05907272081531671,
          0.058254541907834134,
          0.05846339793165532,
          0.05910221374702957,
          0.05905008654698281,
          0.058519188452400436,
          0.05839178663675544,
          0.05798227463618613,
          0.05837855849298847,
          0.05800424147557382,
          0.057838214845058855,
          0.057041677675685264,
          0.05656259969964603,
          0.0562846884612659,
          0.0563182454723966,
          0.05593725800068674,
          0.05544011272680243,
          0.05477805018386616,
          0.0545070223164034,
          0.054600107224263054,
          0.05424354374529813,
          0.054059506317048305,
          0.05364417992909887,
          0.053721549124279615,
          0.053551792246662844,
          0.05359431072280486,
          0.053729500960073534,
          0.05334796443027682,
          0.0530517921237793,
          0.05303328949190991,
          0.05286108599820233,
          0.052436084066217185,
          0.05254484953098556,
          0.05224282491039997,
          0.05241556662395179,
          0.05221707873157439,
          0.05200437750676439,
          0.05180596881113031,
          0.05207114955776952,
          0.05179372834025432,
          0.051620814353599324,
          0.05180190885995187,
          0.051773040845351816,
          0.05190354426386327,
          0.051949358493948564,
          0.051708643728611385,
          0.05158214266532708,
          0.05145089328590673,
          0.05138047411136838,
          0.05149232246038247,
          0.05163971359353244,
          0.05171292723028484,
          0.051577666375995423,
          0.051410539923252355,
          0.051309639652555326,
          0.051097876938683055,
          0.05127219258336782,
          0.051380449211137026,
          0.0512979926596382,
          0.05136410593993271,
          0.051463503138525504,
          0.05148788372086373,
          0.051660874409662806,
          0.05155519127491462,
          0.05144979688921243,
          0.05142400271228741,
          0.05127397634341204,
          0.05126171930635844,
          0.0510575701906922,
          0.05133430822162473,
          0.051337371745714594,
          0.05111602013355322,
          0.051101511318978575,
          0.051294766464529414,
          0.05130305358768207,
          0.05139628673034074,
          0.051340285648832695,
          0.05135622690811393,
          0.05118368452504249,
          0.051270182027929385,
          0.051211516855205856,
          0.05127621294962598,
          0.051222156427514945,
          0.05094585496239284,
          0.050805774247672755,
          0.05090294691563464,
          0.050877214336231796,
          0.05098336177363383,
          0.05094930778146374,
          0.051065885999695255,
          0.051313753403700764,
          0.05134219313201264,
          0.05136944384631138,
          0.0514039470852084,
          0.05136168784362672,
          0.05125059946817981,
          0.05142098225153331,
          0.05149876921954695,
          0.051535189064487716,
          0.051476443687705695,
          0.051507997439438034,
          0.051568300493036894,
          0.051437121961502644,
          0.05138086213226457,
          0.05140494490809524,
          0.05134631696582705,
          0.05130448507650367,
          0.05138232125160558,
          0.05140061817879873,
          0.05125718641659912,
          0.05127674743309886,
          0.05124698497406739,
          0.05105047297106408,
          0.05108285537626998,
          0.05107517293282002,
          0.051114407377422164,
          0.05122318151235143,
          0.05127505909051268,
          0.051276991805368516,
          0.05130430444141193,
          0.05124864846119525,
          0.05117144338200483,
          0.051267473178272745,
          0.05126144654935767,
          0.05123793337142096,
          0.05121983470157732,
          0.05129785081249948,
          0.051351035596802465,
          0.05132129632300173,
          0.051363709448467444,
          0.051318120235279804,
          0.051281760161612226,
          0.05130673894075586,
          0.05124170497238707,
          0.05123865448352242,
          0.05120353977781888,
          0.0512154874143052,
          0.05111340614941342,
          0.051073911708537895,
          0.051053859217525005,
          0.05104718032910329,
          0.05094774470337825,
          0.05097899920302295,
          0.051019231503562884,
          0.05109649570328907,
          0.05114249243038036,
          0.05105420568968148,
          0.0510148090494662,
          0.050961536661768156,
          0.05092660234662007,
          0.05095920781897878,
          0.051110434774445615,
          0.051086238502873894,
          0.05092535222018166,
          0.050977185839492734,
          0.0509264608715585,
          0.050848943903595074,
          0.05075652209737535,
          0.05070197256986281,
          0.05077659290063682,
          0.05075132859548051,
          0.05079592168408758,
          0.05072935005150863,
          0.050734858462852236,
          0.050741016928667323,
          0.050704219291143736,
          0.050671778914223066,
          0.050722024699068384,
          0.050665904205105174,
          0.050649424109666975,
          0.050794765080489135,
          0.05077057949530292,
          0.050735502593925785,
          0.0507669212818604,
          0.0508047696266518,
          0.05081197296268166,
          0.05082469401374936,
          0.05082869302031749,
          0.05080892610339737,
          0.05075526625514067,
          0.05074747049978464
         ]
        },
        {
         "mode": "lines",
         "name": "Test",
         "type": "scatter",
         "x": [
          1,
          2,
          3,
          4,
          5,
          6,
          7,
          8,
          9,
          10,
          11,
          12,
          13,
          14,
          15,
          16,
          17,
          18,
          19,
          20,
          21,
          22,
          23,
          24,
          25,
          26,
          27,
          28,
          29,
          30,
          31,
          32,
          33,
          34,
          35,
          36,
          37,
          38,
          39,
          40,
          41,
          42,
          43,
          44,
          45,
          46,
          47,
          48,
          49,
          50,
          51,
          52,
          53,
          54,
          55,
          56,
          57,
          58,
          59,
          60,
          61,
          62,
          63,
          64,
          65,
          66,
          67,
          68,
          69,
          70,
          71,
          72,
          73,
          74,
          75,
          76,
          77,
          78,
          79,
          80,
          81,
          82,
          83,
          84,
          85,
          86,
          87,
          88,
          89,
          90,
          91,
          92,
          93,
          94,
          95,
          96,
          97,
          98,
          99,
          100,
          101,
          102,
          103,
          104,
          105,
          106,
          107,
          108,
          109,
          110,
          111,
          112,
          113,
          114,
          115,
          116,
          117,
          118,
          119,
          120,
          121,
          122,
          123,
          124,
          125,
          126,
          127,
          128,
          129,
          130,
          131,
          132,
          133,
          134,
          135,
          136,
          137,
          138,
          139,
          140,
          141,
          142,
          143,
          144,
          145,
          146,
          147,
          148,
          149,
          150,
          151,
          152,
          153,
          154,
          155,
          156,
          157,
          158,
          159,
          160,
          161,
          162,
          163,
          164,
          165,
          166,
          167,
          168,
          169,
          170,
          171,
          172,
          173,
          174,
          175,
          176,
          177,
          178,
          179,
          180,
          181,
          182,
          183,
          184,
          185,
          186,
          187,
          188,
          189,
          190,
          191,
          192,
          193,
          194,
          195,
          196,
          197,
          198,
          199,
          200
         ],
         "y": [
          0.18603191840468686,
          0.1448506087163007,
          0.15619864727201274,
          0.15091304709941308,
          0.14438643717935856,
          0.1420653807817998,
          0.14161248673678214,
          0.13910116780994747,
          0.14048325761447583,
          0.13882771503982785,
          0.13922966300601503,
          0.13560180379808803,
          0.13597498372151892,
          0.1359907055580793,
          0.13525483074898656,
          0.13654278277099485,
          0.13403961617204396,
          0.1345836450574029,
          0.13297600850475025,
          0.13323462514022547,
          0.13217604951764603,
          0.1304642067268251,
          0.1307213145056516,
          0.1324289910301393,
          0.13012176275717133,
          0.13103768682608055,
          0.13166948606938828,
          0.1306917148532367,
          0.13068711280937786,
          0.1297031940421012,
          0.12827497659180792,
          0.1287671975288171,
          0.12832183033407504,
          0.12776403704931222,
          0.12731127169330894,
          0.12645445727727858,
          0.12706157001075585,
          0.1261171042521044,
          0.12758751010845693,
          0.12602181645150276,
          0.12504148375339694,
          0.12442768087095103,
          0.1238754438725316,
          0.12413827108718953,
          0.12459260440791081,
          0.12522163182780657,
          0.12605418470916063,
          0.1258970804391812,
          0.1260719366880007,
          0.12483991324175664,
          0.12530674783739276,
          0.12537325387275103,
          0.12419139927336825,
          0.12415666904494087,
          0.1240741493150508,
          0.12301233172636811,
          0.12308480758541258,
          0.12321869759855192,
          0.12302487881453722,
          0.12284941644182742,
          0.1219718300585466,
          0.12196748319391056,
          0.12197501729699294,
          0.12194173268137751,
          0.12206595511949773,
          0.12154671286759051,
          0.12192269917180983,
          0.12194271061081612,
          0.12152066176294805,
          0.1209706772567825,
          0.12113995215886039,
          0.12014974740168854,
          0.11951410808810972,
          0.1196884675125455,
          0.12060964282997706,
          0.11998764240810235,
          0.11993607226764867,
          0.11973328622565241,
          0.11981049969853383,
          0.12031683403369353,
          0.12069425931927646,
          0.12062008499756205,
          0.12063696492276713,
          0.12056959169649001,
          0.12059902281826036,
          0.12045087753662787,
          0.1204027313828101,
          0.1199890836819699,
          0.11974190037058938,
          0.11996095479032706,
          0.1200368651512805,
          0.11973885266531732,
          0.11984273477181526,
          0.11955046004694703,
          0.1196767901433975,
          0.11958565781248187,
          0.11966576137267543,
          0.11954693625419915,
          0.1195625817730944,
          0.11968424455151909,
          0.11930209790313834,
          0.11928774380771798,
          0.11931386518440532,
          0.11924515257275989,
          0.11919474934379361,
          0.11936040957350297,
          0.11953162308153481,
          0.11906971077732449,
          0.11920221203487692,
          0.11931418676430107,
          0.11933343011835928,
          0.11919434438322253,
          0.11917675324213395,
          0.11914564190874448,
          0.11859259350564091,
          0.11884410101020489,
          0.11854127966538099,
          0.11883946681692432,
          0.11866464057607878,
          0.11876227518222388,
          0.11865926514141419,
          0.1180512988041975,
          0.11853327016416337,
          0.1182667146417294,
          0.11801934513220587,
          0.11805451781588988,
          0.11851590099207321,
          0.11891757041700189,
          0.11896329382281907,
          0.1189557623559344,
          0.11915106473984854,
          0.11942355095672033,
          0.11965103487596473,
          0.11975760241044017,
          0.11978492107513446,
          0.11972711654927458,
          0.11982674260979796,
          0.11987373127327741,
          0.1200814896629781,
          0.12007949428276536,
          0.1197398376796143,
          0.1193383243637983,
          0.1194147282059723,
          0.11912055342478327,
          0.1190389558654509,
          0.11942137021052537,
          0.11939987925036269,
          0.11919161133307259,
          0.1192262454140061,
          0.11940367935020499,
          0.11933375184343913,
          0.11909484381507972,
          0.11905659549491915,
          0.1193235502055774,
          0.1193050805451004,
          0.1190592108499666,
          0.11901757721468559,
          0.11909752835852741,
          0.1189916304147569,
          0.11873470079404688,
          0.11852247874336037,
          0.11876286579368106,
          0.11895218939073372,
          0.11906927332739402,
          0.11915619007982864,
          0.11901334164420306,
          0.11921621785097261,
          0.11864354850654274,
          0.1186296436317314,
          0.11860061688423669,
          0.11903956083873224,
          0.11918665466612485,
          0.11892125106309855,
          0.11889321688537949,
          0.11893614355538325,
          0.11863843924973941,
          0.11831320068881251,
          0.11815904215230112,
          0.11815140305662807,
          0.11782006204038477,
          0.11807092437908166,
          0.11808465420794295,
          0.11821497914410797,
          0.11818088934655946,
          0.11825250919816291,
          0.11813623959912463,
          0.11817820423983351,
          0.11796201761861212,
          0.11802378934412146,
          0.11827760504619303,
          0.11838079941037351,
          0.11822203918552164,
          0.11827878171639238,
          0.11817178387376422,
          0.1180645984381744,
          0.11836611370541272,
          0.1185619724545498,
          0.11870854630517245,
          0.1187860957356505,
          0.11878543617670595
         ]
        }
       ],
       "layout": {
        "font": {
         "color": "black",
         "family": "Arial",
         "size": 36
        },
        "height": 600,
        "paper_bgcolor": "rgba(0,0,0,0)",
        "plot_bgcolor": "rgba(0,0,0,0)",
        "shapes": [
         {
          "line": {
           "color": "black",
           "width": 2
          },
          "type": "line",
          "x0": 0,
          "x1": 1,
          "xref": "paper",
          "y0": 0,
          "y1": 0,
          "yref": "y"
         }
        ],
        "showlegend": true,
        "template": {
         "data": {
          "bar": [
           {
            "error_x": {
             "color": "#2a3f5f"
            },
            "error_y": {
             "color": "#2a3f5f"
            },
            "marker": {
             "line": {
              "color": "#E5ECF6",
              "width": 0.5
             },
             "pattern": {
              "fillmode": "overlay",
              "size": 10,
              "solidity": 0.2
             }
            },
            "type": "bar"
           }
          ],
          "barpolar": [
           {
            "marker": {
             "line": {
              "color": "#E5ECF6",
              "width": 0.5
             },
             "pattern": {
              "fillmode": "overlay",
              "size": 10,
              "solidity": 0.2
             }
            },
            "type": "barpolar"
           }
          ],
          "carpet": [
           {
            "aaxis": {
             "endlinecolor": "#2a3f5f",
             "gridcolor": "white",
             "linecolor": "white",
             "minorgridcolor": "white",
             "startlinecolor": "#2a3f5f"
            },
            "baxis": {
             "endlinecolor": "#2a3f5f",
             "gridcolor": "white",
             "linecolor": "white",
             "minorgridcolor": "white",
             "startlinecolor": "#2a3f5f"
            },
            "type": "carpet"
           }
          ],
          "choropleth": [
           {
            "colorbar": {
             "outlinewidth": 0,
             "ticks": ""
            },
            "type": "choropleth"
           }
          ],
          "contour": [
           {
            "colorbar": {
             "outlinewidth": 0,
             "ticks": ""
            },
            "colorscale": [
             [
              0,
              "#0d0887"
             ],
             [
              0.1111111111111111,
              "#46039f"
             ],
             [
              0.2222222222222222,
              "#7201a8"
             ],
             [
              0.3333333333333333,
              "#9c179e"
             ],
             [
              0.4444444444444444,
              "#bd3786"
             ],
             [
              0.5555555555555556,
              "#d8576b"
             ],
             [
              0.6666666666666666,
              "#ed7953"
             ],
             [
              0.7777777777777778,
              "#fb9f3a"
             ],
             [
              0.8888888888888888,
              "#fdca26"
             ],
             [
              1,
              "#f0f921"
             ]
            ],
            "type": "contour"
           }
          ],
          "contourcarpet": [
           {
            "colorbar": {
             "outlinewidth": 0,
             "ticks": ""
            },
            "type": "contourcarpet"
           }
          ],
          "heatmap": [
           {
            "colorbar": {
             "outlinewidth": 0,
             "ticks": ""
            },
            "colorscale": [
             [
              0,
              "#0d0887"
             ],
             [
              0.1111111111111111,
              "#46039f"
             ],
             [
              0.2222222222222222,
              "#7201a8"
             ],
             [
              0.3333333333333333,
              "#9c179e"
             ],
             [
              0.4444444444444444,
              "#bd3786"
             ],
             [
              0.5555555555555556,
              "#d8576b"
             ],
             [
              0.6666666666666666,
              "#ed7953"
             ],
             [
              0.7777777777777778,
              "#fb9f3a"
             ],
             [
              0.8888888888888888,
              "#fdca26"
             ],
             [
              1,
              "#f0f921"
             ]
            ],
            "type": "heatmap"
           }
          ],
          "heatmapgl": [
           {
            "colorbar": {
             "outlinewidth": 0,
             "ticks": ""
            },
            "colorscale": [
             [
              0,
              "#0d0887"
             ],
             [
              0.1111111111111111,
              "#46039f"
             ],
             [
              0.2222222222222222,
              "#7201a8"
             ],
             [
              0.3333333333333333,
              "#9c179e"
             ],
             [
              0.4444444444444444,
              "#bd3786"
             ],
             [
              0.5555555555555556,
              "#d8576b"
             ],
             [
              0.6666666666666666,
              "#ed7953"
             ],
             [
              0.7777777777777778,
              "#fb9f3a"
             ],
             [
              0.8888888888888888,
              "#fdca26"
             ],
             [
              1,
              "#f0f921"
             ]
            ],
            "type": "heatmapgl"
           }
          ],
          "histogram": [
           {
            "marker": {
             "pattern": {
              "fillmode": "overlay",
              "size": 10,
              "solidity": 0.2
             }
            },
            "type": "histogram"
           }
          ],
          "histogram2d": [
           {
            "colorbar": {
             "outlinewidth": 0,
             "ticks": ""
            },
            "colorscale": [
             [
              0,
              "#0d0887"
             ],
             [
              0.1111111111111111,
              "#46039f"
             ],
             [
              0.2222222222222222,
              "#7201a8"
             ],
             [
              0.3333333333333333,
              "#9c179e"
             ],
             [
              0.4444444444444444,
              "#bd3786"
             ],
             [
              0.5555555555555556,
              "#d8576b"
             ],
             [
              0.6666666666666666,
              "#ed7953"
             ],
             [
              0.7777777777777778,
              "#fb9f3a"
             ],
             [
              0.8888888888888888,
              "#fdca26"
             ],
             [
              1,
              "#f0f921"
             ]
            ],
            "type": "histogram2d"
           }
          ],
          "histogram2dcontour": [
           {
            "colorbar": {
             "outlinewidth": 0,
             "ticks": ""
            },
            "colorscale": [
             [
              0,
              "#0d0887"
             ],
             [
              0.1111111111111111,
              "#46039f"
             ],
             [
              0.2222222222222222,
              "#7201a8"
             ],
             [
              0.3333333333333333,
              "#9c179e"
             ],
             [
              0.4444444444444444,
              "#bd3786"
             ],
             [
              0.5555555555555556,
              "#d8576b"
             ],
             [
              0.6666666666666666,
              "#ed7953"
             ],
             [
              0.7777777777777778,
              "#fb9f3a"
             ],
             [
              0.8888888888888888,
              "#fdca26"
             ],
             [
              1,
              "#f0f921"
             ]
            ],
            "type": "histogram2dcontour"
           }
          ],
          "mesh3d": [
           {
            "colorbar": {
             "outlinewidth": 0,
             "ticks": ""
            },
            "type": "mesh3d"
           }
          ],
          "parcoords": [
           {
            "line": {
             "colorbar": {
              "outlinewidth": 0,
              "ticks": ""
             }
            },
            "type": "parcoords"
           }
          ],
          "pie": [
           {
            "automargin": true,
            "type": "pie"
           }
          ],
          "scatter": [
           {
            "fillpattern": {
             "fillmode": "overlay",
             "size": 10,
             "solidity": 0.2
            },
            "type": "scatter"
           }
          ],
          "scatter3d": [
           {
            "line": {
             "colorbar": {
              "outlinewidth": 0,
              "ticks": ""
             }
            },
            "marker": {
             "colorbar": {
              "outlinewidth": 0,
              "ticks": ""
             }
            },
            "type": "scatter3d"
           }
          ],
          "scattercarpet": [
           {
            "marker": {
             "colorbar": {
              "outlinewidth": 0,
              "ticks": ""
             }
            },
            "type": "scattercarpet"
           }
          ],
          "scattergeo": [
           {
            "marker": {
             "colorbar": {
              "outlinewidth": 0,
              "ticks": ""
             }
            },
            "type": "scattergeo"
           }
          ],
          "scattergl": [
           {
            "marker": {
             "colorbar": {
              "outlinewidth": 0,
              "ticks": ""
             }
            },
            "type": "scattergl"
           }
          ],
          "scattermapbox": [
           {
            "marker": {
             "colorbar": {
              "outlinewidth": 0,
              "ticks": ""
             }
            },
            "type": "scattermapbox"
           }
          ],
          "scatterpolar": [
           {
            "marker": {
             "colorbar": {
              "outlinewidth": 0,
              "ticks": ""
             }
            },
            "type": "scatterpolar"
           }
          ],
          "scatterpolargl": [
           {
            "marker": {
             "colorbar": {
              "outlinewidth": 0,
              "ticks": ""
             }
            },
            "type": "scatterpolargl"
           }
          ],
          "scatterternary": [
           {
            "marker": {
             "colorbar": {
              "outlinewidth": 0,
              "ticks": ""
             }
            },
            "type": "scatterternary"
           }
          ],
          "surface": [
           {
            "colorbar": {
             "outlinewidth": 0,
             "ticks": ""
            },
            "colorscale": [
             [
              0,
              "#0d0887"
             ],
             [
              0.1111111111111111,
              "#46039f"
             ],
             [
              0.2222222222222222,
              "#7201a8"
             ],
             [
              0.3333333333333333,
              "#9c179e"
             ],
             [
              0.4444444444444444,
              "#bd3786"
             ],
             [
              0.5555555555555556,
              "#d8576b"
             ],
             [
              0.6666666666666666,
              "#ed7953"
             ],
             [
              0.7777777777777778,
              "#fb9f3a"
             ],
             [
              0.8888888888888888,
              "#fdca26"
             ],
             [
              1,
              "#f0f921"
             ]
            ],
            "type": "surface"
           }
          ],
          "table": [
           {
            "cells": {
             "fill": {
              "color": "#EBF0F8"
             },
             "line": {
              "color": "white"
             }
            },
            "header": {
             "fill": {
              "color": "#C8D4E3"
             },
             "line": {
              "color": "white"
             }
            },
            "type": "table"
           }
          ]
         },
         "layout": {
          "annotationdefaults": {
           "arrowcolor": "#2a3f5f",
           "arrowhead": 0,
           "arrowwidth": 1
          },
          "autotypenumbers": "strict",
          "coloraxis": {
           "colorbar": {
            "outlinewidth": 0,
            "ticks": ""
           }
          },
          "colorscale": {
           "diverging": [
            [
             0,
             "#8e0152"
            ],
            [
             0.1,
             "#c51b7d"
            ],
            [
             0.2,
             "#de77ae"
            ],
            [
             0.3,
             "#f1b6da"
            ],
            [
             0.4,
             "#fde0ef"
            ],
            [
             0.5,
             "#f7f7f7"
            ],
            [
             0.6,
             "#e6f5d0"
            ],
            [
             0.7,
             "#b8e186"
            ],
            [
             0.8,
             "#7fbc41"
            ],
            [
             0.9,
             "#4d9221"
            ],
            [
             1,
             "#276419"
            ]
           ],
           "sequential": [
            [
             0,
             "#0d0887"
            ],
            [
             0.1111111111111111,
             "#46039f"
            ],
            [
             0.2222222222222222,
             "#7201a8"
            ],
            [
             0.3333333333333333,
             "#9c179e"
            ],
            [
             0.4444444444444444,
             "#bd3786"
            ],
            [
             0.5555555555555556,
             "#d8576b"
            ],
            [
             0.6666666666666666,
             "#ed7953"
            ],
            [
             0.7777777777777778,
             "#fb9f3a"
            ],
            [
             0.8888888888888888,
             "#fdca26"
            ],
            [
             1,
             "#f0f921"
            ]
           ],
           "sequentialminus": [
            [
             0,
             "#0d0887"
            ],
            [
             0.1111111111111111,
             "#46039f"
            ],
            [
             0.2222222222222222,
             "#7201a8"
            ],
            [
             0.3333333333333333,
             "#9c179e"
            ],
            [
             0.4444444444444444,
             "#bd3786"
            ],
            [
             0.5555555555555556,
             "#d8576b"
            ],
            [
             0.6666666666666666,
             "#ed7953"
            ],
            [
             0.7777777777777778,
             "#fb9f3a"
            ],
            [
             0.8888888888888888,
             "#fdca26"
            ],
            [
             1,
             "#f0f921"
            ]
           ]
          },
          "colorway": [
           "#636efa",
           "#EF553B",
           "#00cc96",
           "#ab63fa",
           "#FFA15A",
           "#19d3f3",
           "#FF6692",
           "#B6E880",
           "#FF97FF",
           "#FECB52"
          ],
          "font": {
           "color": "#2a3f5f"
          },
          "geo": {
           "bgcolor": "white",
           "lakecolor": "white",
           "landcolor": "#E5ECF6",
           "showlakes": true,
           "showland": true,
           "subunitcolor": "white"
          },
          "hoverlabel": {
           "align": "left"
          },
          "hovermode": "closest",
          "mapbox": {
           "style": "light"
          },
          "paper_bgcolor": "white",
          "plot_bgcolor": "#E5ECF6",
          "polar": {
           "angularaxis": {
            "gridcolor": "white",
            "linecolor": "white",
            "ticks": ""
           },
           "bgcolor": "#E5ECF6",
           "radialaxis": {
            "gridcolor": "white",
            "linecolor": "white",
            "ticks": ""
           }
          },
          "scene": {
           "xaxis": {
            "backgroundcolor": "#E5ECF6",
            "gridcolor": "white",
            "gridwidth": 2,
            "linecolor": "white",
            "showbackground": true,
            "ticks": "",
            "zerolinecolor": "white"
           },
           "yaxis": {
            "backgroundcolor": "#E5ECF6",
            "gridcolor": "white",
            "gridwidth": 2,
            "linecolor": "white",
            "showbackground": true,
            "ticks": "",
            "zerolinecolor": "white"
           },
           "zaxis": {
            "backgroundcolor": "#E5ECF6",
            "gridcolor": "white",
            "gridwidth": 2,
            "linecolor": "white",
            "showbackground": true,
            "ticks": "",
            "zerolinecolor": "white"
           }
          },
          "shapedefaults": {
           "line": {
            "color": "#2a3f5f"
           }
          },
          "ternary": {
           "aaxis": {
            "gridcolor": "white",
            "linecolor": "white",
            "ticks": ""
           },
           "baxis": {
            "gridcolor": "white",
            "linecolor": "white",
            "ticks": ""
           },
           "bgcolor": "#E5ECF6",
           "caxis": {
            "gridcolor": "white",
            "linecolor": "white",
            "ticks": ""
           }
          },
          "title": {
           "x": 0.05
          },
          "xaxis": {
           "automargin": true,
           "gridcolor": "white",
           "linecolor": "white",
           "ticks": "",
           "title": {
            "standoff": 15
           },
           "zerolinecolor": "white",
           "zerolinewidth": 2
          },
          "yaxis": {
           "automargin": true,
           "gridcolor": "white",
           "linecolor": "white",
           "ticks": "",
           "title": {
            "standoff": 15
           },
           "zerolinecolor": "white",
           "zerolinewidth": 2
          }
         }
        },
        "title": {
         "text": "RF Loss Curves",
         "x": 0.5,
         "y": 0.9
        },
        "width": 800,
        "xaxis": {
         "gridcolor": "gray",
         "title": {
          "text": "Number of Trees"
         }
        },
        "yaxis": {
         "gridcolor": "gray",
         "title": {
          "text": "RMSE"
         }
        }
       }
      }
     },
     "metadata": {},
     "output_type": "display_data"
    }
   ],
   "source": [
    "import plotly.graph_objs as go\n",
    "import plotly.io as pio\n",
    "# Convert n_estimators to a list or numpy array\n",
    "n_estimators_list = list(n_estimators)  # Convert to list\n",
    "\n",
    "\n",
    "# Create traces\n",
    "trace1 = go.Scatter(\n",
    "    x=n_estimators_list, \n",
    "    y=train_errors, \n",
    "    mode='lines', \n",
    "    name='Train'\n",
    ")\n",
    "trace2 = go.Scatter(\n",
    "    x=n_estimators_list, \n",
    "    y=test_errors, \n",
    "    mode='lines', \n",
    "    name='Test'\n",
    ")\n",
    "\n",
    "# Create layout\n",
    "layout = go.Layout(\n",
    "    title='Random Forest Training and Testing Error',\n",
    "    xaxis=dict(title='Number of Trees'),\n",
    "    yaxis=dict(title='RMSE')\n",
    ")\n",
    "\n",
    "# Create figure and add traces\n",
    "fig = go.Figure(data=[trace1, trace2], layout=layout)\n",
    "\n",
    "fig.add_shape(type=\"line\",\n",
    "              x0=0, y0=0, x1=1, y1=0,\n",
    "              line=dict(color=\"black\", width=2),\n",
    "              xref=\"paper\", yref=\"y\")\n",
    "\n",
    "fig.update_layout(\n",
    "    font=dict(family=\"Arial\", size=36, color=\"black\"),\n",
    "    title=dict(text='RF Loss Curves', x=0.5, y=0.9),\n",
    "    xaxis_title='Number of Trees',\n",
    "    yaxis_title='RMSE',\n",
    "    showlegend=True,\n",
    "    width=800,  # Set figure width\n",
    "    height=600 ,  # Set figure height\n",
    "    paper_bgcolor='rgba(0,0,0,0)',  # Set paper (figure) background to transparent\n",
    "    plot_bgcolor='rgba(0,0,0,0)',  # Set plot background to transparent    \n",
    "    xaxis=dict(gridcolor='gray'),  # Set x-axis grid lines to gray\n",
    "    yaxis=dict(gridcolor='gray')   # Set y-axis grid lines to gray    \n",
    ")\n",
    "\n",
    "# Save and show figure\n",
    "pio.write_html(fig, \"RF_rmse_vs_num_trees.html\")\n",
    "pio.write_image(fig, \"RF_rmse_vs_num_trees.pdf\")\n",
    "fig.show()\n"
   ]
  },
  {
   "cell_type": "code",
   "execution_count": 116,
   "metadata": {},
   "outputs": [
    {
     "name": "stdout",
     "output_type": "stream",
     "text": [
      "Cross-Validation RMSE: -0.141 ± 0.009\n"
     ]
    }
   ],
   "source": [
    "\n",
    "from sklearn.model_selection import train_test_split, cross_val_score, GridSearchCV, KFold\n",
    "from sklearn.metrics import make_scorer, mean_squared_error\n",
    "\n",
    "kf = KFold(n_splits=5, shuffle=True, random_state=62)\n",
    "# Define custom RMSE scoring function\n",
    "def rmse(y_true, y_pred):\n",
    "    return np.sqrt(mean_squared_error(y_true, y_pred))\n",
    "\n",
    "scoring = make_scorer(rmse, greater_is_better=False)\n",
    "\n",
    "# Perform cross-validation\n",
    "cv_results = cross_val_score(rf, X_train, y_train, cv=kf, scoring=scoring)\n",
    "cv_mean = np.mean(cv_results)\n",
    "cv_std = np.std(cv_results)\n",
    "\n",
    "print(f\"Cross-Validation RMSE: {cv_mean:.3f} ± {cv_std:.3f}\")\n"
   ]
  },
  {
   "cell_type": "code",
   "execution_count": 107,
   "metadata": {},
   "outputs": [],
   "source": [
    "import shap\n",
    "\n",
    "\n",
    "import numpy as np\n",
    "import pandas as pd\n",
    "import xgboost as xgb\n",
    "import shap\n",
    "from sklearn.model_selection import train_test_split\n",
    "import matplotlib.pyplot as plt\n",
    "\n",
    "# Load and preprocess data\n",
    "df = pd.read_csv(\"feature_target.dat\", sep=\" \", )\n",
    "df_clean = df.drop(columns=['Unnamed: 0', 'formula'])  # Adjust columns as needed\n",
    "\n",
    "# Define features and target\n",
    "X = df_clean.drop(columns=[\"diff_coeff_mul_thousand\"])\n",
    "y = df_clean[\"diff_coeff_mul_thousand\"]\n",
    "\n",
    "# Split the data into training and testing sets\n",
    "X_train, X_test, y_train, y_test = train_test_split(X, y, train_size=0.85, random_state=62)\n",
    "\n",
    "# Rename features in the X_test DataFrame\n",
    "feature_renames = {\n",
    "    'Li_percentage': 'Li%',\n",
    "    'temperature': 'Temperature',   \n",
    "    'avg_X_with_Li': r'$\\overline{X}$',\n",
    "    # 'avg_Echo_wiout_Li': r\"$\\overline{E_{coh}^{Li}}$ \",\n",
    "    # 'avg_Echo_with_Li':r'$\\overline{E_{coh}}$',\n",
    "    # 'BR5_M_with_Li': '$\\sqrt{\\frac{E_{coh}\\cdot\\Bar{R}^2}{\\Bar{m}}}$',\n",
    "    # 'SLPW_PP':r'SLPW\\_pp',\n",
    "    # Add more renames as needed\n",
    "    # 'original_feature_name': 'new_feature_name',\n",
    "}\n",
    "\n",
    "X_test_renamed = X_test.rename(columns=feature_renames)\n",
    "\n",
    "# Define the model\n",
    "# model = xgb.XGBRegressor(n_estimators=100, max_depth=4, n_jobs=6, reg_alpha=0.8,\n",
    "#                          learning_rate=0.1, random_state=62)\n",
    "rf = RandomForestRegressor( n_estimators=100, random_state=62) #\n",
    "rf.fit(X_train, y_train)\n",
    "# Train the model\n",
    "rf.fit(X_train, y_train)\n",
    "\n",
    "# Calculate SHAP values\n",
    "explainer = shap.Explainer(rf)\n",
    "shap_values = explainer(X_test_renamed)\n",
    "\n",
    "shap_importance = np.abs(shap_values.values).mean(axis=0)\n",
    "top_11_indices = np.argsort(shap_importance)[-11:]\n",
    "\n",
    "# Subset the SHAP values and feature data to the top 11 features\n",
    "shap_values_top_11 = shap_values[:, top_11_indices]\n",
    "X_test_renamed_top_11 = X_test_renamed.iloc[:, top_11_indices]\n",
    "\n",
    "# Generate and save SHAP summary plot for the top 11 features\n",
    "shap.summary_plot(shap_values_top_11, X_test_renamed_top_11, show=False)\n",
    "plt.savefig(\"RF_shap_summary_plot_top_11.pdf\", bbox_inches='tight', dpi=300)\n",
    "plt.close()  # Close the plot to free memory\n",
    "\n",
    "# fig, ax = plt.subplots(figsize=(7,7))\n",
    "\n",
    "# # Generate SHAP summary plot with renamed features\n",
    "# plt = shap.summary_plot(shap_values, X_test_renamed, show=False)\n",
    "# fig.savefig(\"XGBoost_shap_summary_plot.pdf\", bbox_inches='tight')\n",
    "\n",
    "\n",
    "\n"
   ]
  },
  {
   "cell_type": "code",
   "execution_count": null,
   "metadata": {},
   "outputs": [],
   "source": []
  }
 ],
 "metadata": {
  "kernelspec": {
   "display_name": "sisso",
   "language": "python",
   "name": "python3"
  },
  "language_info": {
   "codemirror_mode": {
    "name": "ipython",
    "version": 3
   },
   "file_extension": ".py",
   "mimetype": "text/x-python",
   "name": "python",
   "nbconvert_exporter": "python",
   "pygments_lexer": "ipython3",
   "version": "3.8.3"
  }
 },
 "nbformat": 4,
 "nbformat_minor": 2
}
